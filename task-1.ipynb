{
 "cells": [
  {
   "cell_type": "code",
   "execution_count": 1,
   "metadata": {
    "_cell_guid": "b1076dfc-b9ad-4769-8c92-a6c4dae69d19",
    "_uuid": "8f2839f25d086af736a60e9eeb907d3b93b6e0e5",
    "execution": {
     "iopub.execute_input": "2025-04-05T09:07:12.779110Z",
     "iopub.status.busy": "2025-04-05T09:07:12.778928Z",
     "iopub.status.idle": "2025-04-05T09:07:25.035212Z",
     "shell.execute_reply": "2025-04-05T09:07:25.034546Z",
     "shell.execute_reply.started": "2025-04-05T09:07:12.779090Z"
    },
    "trusted": true
   },
   "outputs": [],
   "source": [
    "import torch\n",
    "import torch.nn as nn\n",
    "import torch.nn.functional as F\n",
    "from torch.utils.data import DataLoader, random_split\n",
    "import pytorch_lightning as pl\n",
    "from pytorch_lightning.callbacks import ModelCheckpoint, EarlyStopping\n",
    "from torchvision import transforms, datasets\n",
    "import wandb\n",
    "from pytorch_lightning.loggers import WandbLogger\n",
    "import numpy as np\n",
    "import matplotlib.pyplot as plt"
   ]
  },
  {
   "cell_type": "markdown",
   "metadata": {},
   "source": [
    "## 5-Layer CNN Model Definition"
   ]
  },
  {
   "cell_type": "code",
   "execution_count": null,
   "metadata": {
    "execution": {
     "iopub.execute_input": "2025-04-05T09:07:41.122475Z",
     "iopub.status.busy": "2025-04-05T09:07:41.122198Z",
     "iopub.status.idle": "2025-04-05T09:07:41.138914Z",
     "shell.execute_reply": "2025-04-05T09:07:41.138103Z",
     "shell.execute_reply.started": "2025-04-05T09:07:41.122453Z"
    },
    "trusted": true
   },
   "outputs": [
    {
     "ename": "",
     "evalue": "",
     "output_type": "error",
     "traceback": [
      "\u001b[1;31mThe kernel failed to start due to an error with the Win32api module. Consider (re) installing this module.\n",
      "\u001b[1;31mClick <a href='https://aka.ms/kernelFailuresWin32Api'>here</a> for more info."
     ]
    }
   ],
   "source": [
    "class FlexibleCNN(pl.LightningModule):\n",
    "    def __init__(\n",
    "        self,\n",
    "        input_channels=3,  # RGB images\n",
    "        num_classes=10,\n",
    "        filters=[32, 64, 128, 256, 512],  # Number of filters for each conv layer\n",
    "        filter_size=3,  # Size of convolutional filters\n",
    "        conv_activation='relu',  # Activation for conv layers\n",
    "        dense_activation='relu',  # Activation for dense layer\n",
    "        dense_neurons=128,  # Number of neurons in the dense layer\n",
    "        filter_organization='double',  # 'same', 'double', or 'half'\n",
    "        batch_norm=True,\n",
    "        dropout_rate=0.3,\n",
    "        dropout_position='after_pool',  # 'after_conv', 'after_pool', or 'after_dense'\n",
    "        learning_rate=0.001,\n",
    "        optimizer='adam'\n",
    "    ):\n",
    "        super().__init__()\n",
    "        self.save_hyperparameters()\n",
    "        \n",
    "        # Adjust filters based on organization strategy\n",
    "        if filter_organization == 'same':\n",
    "            self.filters = [filters[0]] * 5\n",
    "        elif filter_organization == 'double':\n",
    "            self.filters = [filters[0]]\n",
    "            for i in range(4):\n",
    "                self.filters.append(self.filters[-1] * 2)\n",
    "        elif filter_organization == 'half':\n",
    "            self.filters = [filters[0]]\n",
    "            for i in range(4):\n",
    "                self.filters.append(max(self.filters[-1] // 2, 8))  # Ensure at least 8 filters\n",
    "        else:\n",
    "            self.filters = filters[:5]  # Use the provided filters directly (up to 5)\n",
    "        \n",
    "        # Get the appropriate activation function\n",
    "        if conv_activation.lower() == 'relu':\n",
    "            self.conv_act_fn = nn.ReLU()\n",
    "        elif conv_activation.lower() == 'gelu':\n",
    "            self.conv_act_fn = nn.GELU()\n",
    "        elif conv_activation.lower() == 'silu' or conv_activation.lower() == 'swish':\n",
    "            self.conv_act_fn = nn.SiLU()\n",
    "        elif conv_activation.lower() == 'mish':\n",
    "            self.conv_act_fn = nn.Mish()\n",
    "        else:\n",
    "            self.conv_act_fn = nn.ReLU()  # Default to ReLU\n",
    "            \n",
    "        # Get dense layer activation function\n",
    "        if dense_activation.lower() == 'relu':\n",
    "            self.dense_act_fn = nn.ReLU()\n",
    "        elif dense_activation.lower() == 'gelu':\n",
    "            self.dense_act_fn = nn.GELU()\n",
    "        elif dense_activation.lower() == 'silu' or dense_activation.lower() == 'swish':\n",
    "            self.dense_act_fn = nn.SiLU()\n",
    "        elif dense_activation.lower() == 'mish':\n",
    "            self.dense_act_fn = nn.Mish()\n",
    "        else:\n",
    "            self.dense_act_fn = nn.ReLU()  # Default to ReLU\n",
    "        \n",
    "        # Create convolutional layers\n",
    "        self.conv_layers = nn.ModuleList()\n",
    "        in_channels = input_channels\n",
    "        \n",
    "        for i in range(5):\n",
    "            # Create a block containing conv, (optional) batch norm, activation, and pooling\n",
    "            block = []\n",
    "            \n",
    "            # Convolutional layer\n",
    "            block.append(nn.Conv2d(in_channels, self.filters[i], kernel_size=filter_size, padding=filter_size//2))\n",
    "            \n",
    "            # Batch normalization (if enabled)\n",
    "            if batch_norm:\n",
    "                block.append(nn.BatchNorm2d(self.filters[i]))\n",
    "            \n",
    "            # Activation function\n",
    "            block.append(self.conv_act_fn)\n",
    "            \n",
    "            # Dropout after convolution (if specified)\n",
    "            if dropout_rate > 0 and dropout_position == 'after_conv':\n",
    "                block.append(nn.Dropout2d(dropout_rate))\n",
    "                \n",
    "            # Max pooling\n",
    "            block.append(nn.MaxPool2d(2))\n",
    "            \n",
    "            # Dropout after pooling (if specified)\n",
    "            if dropout_rate > 0 and dropout_position == 'after_pool':\n",
    "                block.append(nn.Dropout2d(dropout_rate))\n",
    "            \n",
    "            # Add the block to the module list\n",
    "            self.conv_layers.append(nn.Sequential(*block))\n",
    "            \n",
    "            # Update input channels for next layer\n",
    "            in_channels = self.filters[i]\n",
    "        \n",
    "        # Calculate the size of flattened output from last conv layer\n",
    "        # For 224x224 input, after 5 pooling layers (each dividing by 2), we get 7x7 feature maps\n",
    "        self.feature_size = (224 // (2**5)) ** 2 * self.filters[-1]\n",
    "        \n",
    "        # Dense layers\n",
    "        self.classifier = nn.Sequential(\n",
    "            nn.Flatten(),\n",
    "            nn.Linear(self.feature_size, dense_neurons),\n",
    "            self.dense_act_fn\n",
    "        )\n",
    "        \n",
    "        # Dropout after dense (if specified)\n",
    "        self.dropout_dense = None\n",
    "        if dropout_rate > 0 and dropout_position == 'after_dense':\n",
    "            self.dropout_dense = nn.Dropout(dropout_rate)\n",
    "        \n",
    "        # Output layer\n",
    "        self.output_layer = nn.Linear(dense_neurons, num_classes)\n",
    "        \n",
    "        # Store other hyperparameters\n",
    "        self.learning_rate = learning_rate\n",
    "        self.optimizer_name = optimizer\n",
    "\n",
    "    def forward(self, x):\n",
    "        # Pass through all conv blocks\n",
    "        for conv_block in self.conv_layers:\n",
    "            x = conv_block(x)\n",
    "        \n",
    "        # Pass through dense layers\n",
    "        x = self.classifier(x)\n",
    "        \n",
    "        # Apply dropout if needed\n",
    "        if self.dropout_dense:\n",
    "            x = self.dropout_dense(x)\n",
    "        \n",
    "        # Output layer\n",
    "        x = self.output_layer(x)\n",
    "        return x\n",
    "    \n",
    "    def configure_optimizers(self):\n",
    "        if self.optimizer_name.lower() == 'adam':\n",
    "            optimizer = torch.optim.Adam(self.parameters(), lr=self.learning_rate)\n",
    "        elif self.optimizer_name.lower() == 'sgd':\n",
    "            optimizer = torch.optim.SGD(self.parameters(), lr=self.learning_rate, momentum=0.9)\n",
    "        elif self.optimizer_name.lower() == 'rmsprop':\n",
    "            optimizer = torch.optim.RMSprop(self.parameters(), lr=self.learning_rate)\n",
    "        else:\n",
    "            optimizer = torch.optim.Adam(self.parameters(), lr=self.learning_rate)\n",
    "            \n",
    "        return optimizer\n",
    "    \n",
    "    def training_step(self, batch, batch_idx):\n",
    "        x, y = batch\n",
    "        y_hat = self(x)\n",
    "        loss = F.cross_entropy(y_hat, y)\n",
    "        self.log('train_loss', loss, prog_bar=True)\n",
    "        \n",
    "        # Calculate accuracy\n",
    "        preds = torch.argmax(y_hat, dim=1)\n",
    "        acc = (preds == y).float().mean()\n",
    "        self.log('train_acc', acc, prog_bar=True)\n",
    "        \n",
    "        return loss\n",
    "    \n",
    "    def validation_step(self, batch, batch_idx):\n",
    "        x, y = batch\n",
    "        y_hat = self(x)\n",
    "        loss = F.cross_entropy(y_hat, y)\n",
    "        self.log('val_loss', loss, prog_bar=True)\n",
    "        \n",
    "        # Calculate accuracy\n",
    "        preds = torch.argmax(y_hat, dim=1)\n",
    "        acc = (preds == y).float().mean()\n",
    "        self.log('val_acc', acc, prog_bar=True)\n",
    "        \n",
    "        return loss\n",
    "    \n",
    "    def test_step(self, batch, batch_idx):\n",
    "        x, y = batch\n",
    "        y_hat = self(x)\n",
    "        loss = F.cross_entropy(y_hat, y)\n",
    "        self.log('test_loss', loss, prog_bar=True)\n",
    "        \n",
    "        # Calculate accuracy\n",
    "        preds = torch.argmax(y_hat, dim=1)\n",
    "        acc = (preds == y).float().mean()\n",
    "        self.log('test_acc', acc, prog_bar=True)\n",
    "        \n",
    "        return loss\n"
   ]
  },
  {
   "cell_type": "markdown",
   "metadata": {},
   "source": [
    "## Data Pipeline"
   ]
  },
  {
   "cell_type": "code",
   "execution_count": null,
   "metadata": {
    "execution": {
     "iopub.execute_input": "2025-04-05T09:07:53.440137Z",
     "iopub.status.busy": "2025-04-05T09:07:53.439860Z",
     "iopub.status.idle": "2025-04-05T09:07:53.448281Z",
     "shell.execute_reply": "2025-04-05T09:07:53.447525Z",
     "shell.execute_reply.started": "2025-04-05T09:07:53.440117Z"
    },
    "trusted": true
   },
   "outputs": [],
   "source": [
    "class INaturalistDataModule(pl.LightningDataModule):\n",
    "    def __init__(self, batch_size=32, num_workers=4, data_augmentation=False):\n",
    "        super().__init__()\n",
    "        self.batch_size = batch_size\n",
    "        self.num_workers = num_workers\n",
    "        self.data_augmentation = data_augmentation\n",
    "        \n",
    "    def setup(self, stage=None):\n",
    "        # Define transformations\n",
    "        if self.data_augmentation:\n",
    "            train_transform = transforms.Compose([\n",
    "                transforms.Resize((224, 224)),\n",
    "                transforms.RandomHorizontalFlip(),\n",
    "                transforms.RandomRotation(10),\n",
    "                transforms.RandomAffine(degrees=0, translate=(0.1, 0.1)),\n",
    "                transforms.ColorJitter(brightness=0.1, contrast=0.1, saturation=0.1),\n",
    "                transforms.ToTensor(),\n",
    "                transforms.Normalize(mean=[0.485, 0.456, 0.406], std=[0.229, 0.224, 0.225])\n",
    "            ])\n",
    "        else:\n",
    "            train_transform = transforms.Compose([\n",
    "                transforms.Resize((224, 224)),\n",
    "                transforms.ToTensor(),\n",
    "                transforms.Normalize(mean=[0.485, 0.456, 0.406], std=[0.229, 0.224, 0.225])\n",
    "            ])\n",
    "            \n",
    "        val_transform = transforms.Compose([\n",
    "            transforms.Resize((224, 224)),\n",
    "            transforms.ToTensor(),\n",
    "            transforms.Normalize(mean=[0.485, 0.456, 0.406], std=[0.229, 0.224, 0.225])\n",
    "        ])\n",
    "        \n",
    "        # Load dataset\n",
    "        full_dataset = datasets.ImageFolder(root=\"/kaggle/input/nature-12k/inaturalist_12K/train\", transform=train_transform)\n",
    "        # Split into train/val/test\n",
    "        train_size = int(0.8 * len(full_dataset))\n",
    "        val_size = len(full_dataset) - train_size\n",
    "        \n",
    "        self.train_dataset, self.val_dataset = random_split(\n",
    "            full_dataset, [train_size, val_size]\n",
    "        )\n",
    "        \n",
    "        # Apply different transforms to validation and test sets\n",
    "        self.val_dataset.dataset = datasets.ImageFolder(\n",
    "            root=\"/kaggle/input/nature-12k/inaturalist_12K/train\", transform=val_transform\n",
    "        )\n",
    "        self.test_dataset = datasets.ImageFolder(\n",
    "            root=\"/kaggle/input/nature-12k/inaturalist_12K/val\", transform=val_transform\n",
    "        )\n",
    "    \n",
    "    def train_dataloader(self):\n",
    "        return DataLoader(\n",
    "            self.train_dataset, \n",
    "            batch_size=self.batch_size, \n",
    "            shuffle=True, \n",
    "            num_workers=self.num_workers\n",
    "        )\n",
    "    \n",
    "    def val_dataloader(self):\n",
    "        return DataLoader(\n",
    "            self.val_dataset, \n",
    "            batch_size=self.batch_size, \n",
    "            shuffle=False, \n",
    "            num_workers=self.num_workers\n",
    "        )\n",
    "    \n",
    "    def test_dataloader(self):\n",
    "        return DataLoader(\n",
    "            self.test_dataset, \n",
    "            batch_size=self.batch_size, \n",
    "            shuffle=False, \n",
    "            num_workers=self.num_workers\n",
    "        )"
   ]
  },
  {
   "cell_type": "markdown",
   "metadata": {},
   "source": [
    "## Hyperparameter Tuning with WandB"
   ]
  },
  {
   "cell_type": "code",
   "execution_count": null,
   "metadata": {
    "execution": {
     "iopub.execute_input": "2025-04-05T03:35:51.943724Z",
     "iopub.status.busy": "2025-04-05T03:35:51.943410Z",
     "iopub.status.idle": "2025-04-05T03:35:51.950142Z",
     "shell.execute_reply": "2025-04-05T03:35:51.949091Z",
     "shell.execute_reply.started": "2025-04-05T03:35:51.943700Z"
    },
    "trusted": true
   },
   "outputs": [],
   "source": [
    "def train_with_wandb(config=None):\n",
    "    \"\"\"Train with WandB hyperparameter tuning\"\"\"\n",
    "    with wandb.init(config=config):\n",
    "        # Get hyperparameters from wandb\n",
    "        config = wandb.config\n",
    "        \n",
    "        # Create model with the hyperparameters\n",
    "        model = FlexibleCNN(\n",
    "            input_channels=3,\n",
    "            num_classes=10,\n",
    "            filters=[config.filters_initial],\n",
    "            filter_size=config.filter_size,\n",
    "            conv_activation=config.conv_activation,\n",
    "            dense_activation=config.dense_activation,\n",
    "            dense_neurons=config.dense_neurons,\n",
    "            filter_organization=config.filter_organization,\n",
    "            batch_norm=config.batch_norm,\n",
    "            dropout_rate=config.dropout_rate,\n",
    "            dropout_position=config.dropout_position,\n",
    "            learning_rate=config.learning_rate,\n",
    "            optimizer=config.optimizer\n",
    "        )\n",
    "        \n",
    "        # Create data module\n",
    "        data_module = INaturalistDataModule(\n",
    "            batch_size=config.batch_size,\n",
    "            data_augmentation=config.data_augmentation\n",
    "        )\n",
    "        \n",
    "        # Create WandB logger\n",
    "        wandb_logger = WandbLogger(project=\"inaturalist-cnn\")\n",
    "        \n",
    "        # Create callbacks\n",
    "        early_stop_callback = EarlyStopping(\n",
    "            monitor='val_loss',\n",
    "            patience=10,\n",
    "            mode='min'\n",
    "        )\n",
    "        \n",
    "        checkpoint_callback = ModelCheckpoint(\n",
    "            monitor='val_acc',\n",
    "            dirpath='./checkpoints/',\n",
    "            filename='inaturalist-cnn-{epoch:02d}-{val_acc:.2f}',\n",
    "            save_top_k=1,\n",
    "            mode='max'\n",
    "        )\n",
    "        \n",
    "        # Create trainer\n",
    "        trainer = pl.Trainer(\n",
    "            max_epochs=10,\n",
    "            logger=wandb_logger,\n",
    "            callbacks=[early_stop_callback, checkpoint_callback],\n",
    "            log_every_n_steps=10\n",
    "        )\n",
    "        \n",
    "        # Train the model\n",
    "        trainer.fit(model, data_module)"
   ]
  },
  {
   "cell_type": "code",
   "execution_count": null,
   "metadata": {
    "execution": {
     "iopub.execute_input": "2025-04-04T13:07:10.271855Z",
     "iopub.status.busy": "2025-04-04T13:07:10.271562Z",
     "iopub.status.idle": "2025-04-04T13:07:10.292294Z",
     "shell.execute_reply": "2025-04-04T13:07:10.291355Z",
     "shell.execute_reply.started": "2025-04-04T13:07:10.271824Z"
    },
    "trusted": true
   },
   "outputs": [],
   "source": [
    "# Stage 1: Bayesian search for initial exploration\n",
    "sweep_config_stage1 = {\n",
    "    'name': 'Stage1-Sweep',\n",
    "    'method': 'bayes',\n",
    "    'metric': {'name': 'val_acc', 'goal': 'maximize'},\n",
    "    'parameters': {\n",
    "        'filters_initial': {'values': [16, 32, 64]},\n",
    "        'filter_organization': {'values': ['same', 'double', 'half']},\n",
    "        'conv_activation': {'values': ['relu', 'gelu', 'silu', 'mish']},\n",
    "        'dense_activation': {'values': ['relu', 'gelu', 'silu', 'mish']},\n",
    "        'learning_rate': {'values': [0.001, 0.01]},\n",
    "        'batch_norm': {'values': [True, False]},\n",
    "        'optimizer': {'values': ['adam', 'sgd', 'rmsprop']},\n",
    "        'batch_size': {'values': [32, 64]},\n",
    "        \n",
    "        # Set default values for other parameters\n",
    "        'filter_size': {'value': 3},\n",
    "        'dense_neurons': {'value': 128},\n",
    "        'dropout_rate': {'value': 0.3},\n",
    "        'dropout_position': {'value': 'after_pool'},\n",
    "        'data_augmentation': {'value': True}\n",
    "    },\n",
    "    'early_terminate': {'type': 'hyperband', 'min_iter': 5}\n",
    "}"
   ]
  },
  {
   "cell_type": "code",
   "execution_count": null,
   "metadata": {
    "execution": {
     "iopub.execute_input": "2025-04-05T09:08:02.503187Z",
     "iopub.status.busy": "2025-04-05T09:08:02.502916Z",
     "iopub.status.idle": "2025-04-05T09:08:02.510265Z",
     "shell.execute_reply": "2025-04-05T09:08:02.509571Z",
     "shell.execute_reply.started": "2025-04-05T09:08:02.503167Z"
    },
    "trusted": true
   },
   "outputs": [],
   "source": [
    "from kaggle_secrets import UserSecretsClient\n",
    "\n",
    "user_secrets = UserSecretsClient()"
   ]
  },
  {
   "cell_type": "code",
   "execution_count": null,
   "metadata": {
    "execution": {
     "iopub.execute_input": "2025-04-05T09:08:05.544695Z",
     "iopub.status.busy": "2025-04-05T09:08:05.544367Z",
     "iopub.status.idle": "2025-04-05T09:08:05.705938Z",
     "shell.execute_reply": "2025-04-05T09:08:05.705222Z",
     "shell.execute_reply.started": "2025-04-05T09:08:05.544652Z"
    },
    "trusted": true
   },
   "outputs": [],
   "source": [
    "wandb_api = user_secrets.get_secret(\"wandb_api\") "
   ]
  },
  {
   "cell_type": "code",
   "execution_count": null,
   "metadata": {
    "execution": {
     "iopub.execute_input": "2025-04-05T09:08:08.622040Z",
     "iopub.status.busy": "2025-04-05T09:08:08.621737Z",
     "iopub.status.idle": "2025-04-05T09:08:15.385255Z",
     "shell.execute_reply": "2025-04-05T09:08:15.384585Z",
     "shell.execute_reply.started": "2025-04-05T09:08:08.622017Z"
    },
    "trusted": true
   },
   "outputs": [],
   "source": [
    "wandb.login(key=wandb_api)"
   ]
  },
  {
   "cell_type": "code",
   "execution_count": null,
   "metadata": {
    "execution": {
     "iopub.execute_input": "2025-04-04T13:07:16.812632Z",
     "iopub.status.busy": "2025-04-04T13:07:16.812235Z",
     "iopub.status.idle": "2025-04-04T13:07:17.194114Z",
     "shell.execute_reply": "2025-04-04T13:07:17.193316Z",
     "shell.execute_reply.started": "2025-04-04T13:07:16.812600Z"
    },
    "trusted": true
   },
   "outputs": [],
   "source": [
    "sweep_id = wandb.sweep(sweep_config_stage1, project=\"DA6401_Assignment2\")"
   ]
  },
  {
   "cell_type": "code",
   "execution_count": null,
   "metadata": {
    "execution": {
     "execution_failed": "2025-04-04T17:59:34.758Z",
     "iopub.execute_input": "2025-04-04T13:07:17.195077Z",
     "iopub.status.busy": "2025-04-04T13:07:17.194814Z"
    },
    "trusted": true
   },
   "outputs": [],
   "source": [
    "wandb.agent(sweep_id, train_with_wandb, count=30)"
   ]
  },
  {
   "cell_type": "code",
   "execution_count": null,
   "metadata": {
    "execution": {
     "iopub.execute_input": "2025-04-05T03:39:12.927695Z",
     "iopub.status.busy": "2025-04-05T03:39:12.927058Z",
     "iopub.status.idle": "2025-04-05T03:39:13.228700Z",
     "shell.execute_reply": "2025-04-05T03:39:13.227924Z",
     "shell.execute_reply.started": "2025-04-05T03:39:12.927663Z"
    },
    "trusted": true
   },
   "outputs": [],
   "source": [
    "api = wandb.Api()\n",
    "sweep = api.sweep(\"da24m027-indian-institute-of-technology-madras/DA6401_Assignment2/oyruzr45\")\n",
    "best_run_stage1 = sweep.best_run()\n",
    "best_stage1_results = best_run_stage1.config"
   ]
  },
  {
   "cell_type": "code",
   "execution_count": null,
   "metadata": {
    "execution": {
     "iopub.execute_input": "2025-04-05T03:39:30.495757Z",
     "iopub.status.busy": "2025-04-05T03:39:30.495400Z",
     "iopub.status.idle": "2025-04-05T03:39:30.501787Z",
     "shell.execute_reply": "2025-04-05T03:39:30.500828Z",
     "shell.execute_reply.started": "2025-04-05T03:39:30.495711Z"
    },
    "trusted": true
   },
   "outputs": [],
   "source": [
    "best_stage1_results"
   ]
  },
  {
   "cell_type": "code",
   "execution_count": null,
   "metadata": {
    "execution": {
     "iopub.execute_input": "2025-04-05T03:43:54.712907Z",
     "iopub.status.busy": "2025-04-05T03:43:54.712587Z",
     "iopub.status.idle": "2025-04-05T03:43:54.718289Z",
     "shell.execute_reply": "2025-04-05T03:43:54.717239Z",
     "shell.execute_reply.started": "2025-04-05T03:43:54.712883Z"
    },
    "trusted": true
   },
   "outputs": [],
   "source": [
    "sweep_config_stage2 = {\n",
    "    'name': 'Stage2-Sweep',\n",
    "    'method': 'bayes',\n",
    "    'metric': {'name': 'val_acc', 'goal': 'maximize'},\n",
    "    'parameters': {\n",
    "        # Fixed parameters from Stage 1\n",
    "        'filters_initial': {'value': best_stage1_results['filters_initial']},\n",
    "        'filter_organization': {'value': best_stage1_results['filter_organization']},\n",
    "        'conv_activation': {'value': best_stage1_results['conv_activation']},\n",
    "        'dense_activation': {'value': best_stage1_results['dense_activation']},\n",
    "        'learning_rate': {'value': best_stage1_results['learning_rate']},\n",
    "        'batch_norm': {'value': best_stage1_results['batch_norm']},\n",
    "        'optimizer': {'value': best_stage1_results['optimizer']},\n",
    "        'batch_size': {'value': best_stage1_results['batch_size']},\n",
    "            \n",
    "        # Parameters to tune in Stage 2\n",
    "        'filter_size': {'values': [3, 5]},\n",
    "        'dense_neurons': {'values': [64, 128, 256]},\n",
    "        'dropout_rate': {'values': [0.2, 0.3, 0.4]},\n",
    "        'dropout_position': {'values': ['after_conv', 'after_pool', 'after_dense']},\n",
    "        'data_augmentation': {'values': [True, False]}\n",
    "    }\n",
    "}"
   ]
  },
  {
   "cell_type": "code",
   "execution_count": null,
   "metadata": {
    "execution": {
     "iopub.execute_input": "2025-04-05T03:43:59.214269Z",
     "iopub.status.busy": "2025-04-05T03:43:59.213920Z",
     "iopub.status.idle": "2025-04-05T03:43:59.537655Z",
     "shell.execute_reply": "2025-04-05T03:43:59.536689Z",
     "shell.execute_reply.started": "2025-04-05T03:43:59.214242Z"
    },
    "trusted": true
   },
   "outputs": [],
   "source": [
    "sweep_id_stage2 = wandb.sweep(sweep_config_stage2, project=\"DA6401_Assignment2\")"
   ]
  },
  {
   "cell_type": "code",
   "execution_count": null,
   "metadata": {
    "execution": {
     "iopub.execute_input": "2025-04-05T03:44:13.428435Z",
     "iopub.status.busy": "2025-04-05T03:44:13.428043Z"
    },
    "trusted": true
   },
   "outputs": [],
   "source": [
    "wandb.agent(sweep_id_stage2, train_with_wandb, count=30)"
   ]
  },
  {
   "cell_type": "markdown",
   "metadata": {},
   "source": [
    "## Best Model Evaluation"
   ]
  },
  {
   "cell_type": "code",
   "execution_count": 16,
   "metadata": {
    "execution": {
     "iopub.execute_input": "2025-04-05T09:38:42.514751Z",
     "iopub.status.busy": "2025-04-05T09:38:42.514382Z",
     "iopub.status.idle": "2025-04-05T09:38:42.524532Z",
     "shell.execute_reply": "2025-04-05T09:38:42.523710Z",
     "shell.execute_reply.started": "2025-04-05T09:38:42.514722Z"
    },
    "trusted": true
   },
   "outputs": [],
   "source": [
    "def visualize_test_results(model, data_module):\n",
    "    \"\"\"Visualize test results in a 10x3 grid (10 classes, 3 per class)\"\"\"\n",
    "    import matplotlib.pyplot as plt\n",
    "    import numpy as np\n",
    "    import torch\n",
    "    from torchvision import transforms\n",
    "    \n",
    "    # Set model to evaluation mode\n",
    "    model.eval()\n",
    "    \n",
    "    # Get class names\n",
    "    class_names = data_module.test_dataset.classes if hasattr(data_module.test_dataset, 'classes') else [f\"Class {i}\" for i in range(10)]\n",
    "    \n",
    "    # Get test dataloader\n",
    "    test_loader = data_module.test_dataloader()\n",
    "    \n",
    "    # Create dictionary to store examples for each class\n",
    "    class_examples = {i: [] for i in range(10)}\n",
    "    \n",
    "    # Get examples for each class\n",
    "    with torch.no_grad():\n",
    "        for images, labels in test_loader:\n",
    "            # Get predictions\n",
    "            outputs = model(images)\n",
    "            _, preds = torch.max(outputs, 1)\n",
    "            \n",
    "            # Store examples\n",
    "            for i, (image, label, pred) in enumerate(zip(images, labels, preds)):\n",
    "                label_idx = label.item()\n",
    "                if len(class_examples[label_idx]) < 3:\n",
    "                    # Convert tensor to numpy for visualization\n",
    "                    img = image.cpu().numpy().transpose(1, 2, 0)\n",
    "                    \n",
    "                    # Denormalize if necessary\n",
    "                    if hasattr(data_module, 'normalize_transform'):\n",
    "                        mean = data_module.normalize_transform.mean\n",
    "                        std = data_module.normalize_transform.std\n",
    "                        img = img * np.array(std) + np.array(mean)\n",
    "                        \n",
    "                    img = np.clip(img, 0, 1)\n",
    "                    \n",
    "                    class_examples[label_idx].append({\n",
    "                        'image': img,\n",
    "                        'true': class_names[label_idx],\n",
    "                        'pred': class_names[pred.item()]\n",
    "                    })\n",
    "            \n",
    "            # Check if we have enough examples\n",
    "            if all(len(examples) >= 3 for examples in class_examples.values()):\n",
    "                break\n",
    "    \n",
    "    # Create 10x3 grid for visualization\n",
    "    fig, axes = plt.subplots(10, 3, figsize=(15, 30))\n",
    "    \n",
    "    for class_idx in range(10):\n",
    "        examples = class_examples[class_idx]\n",
    "        for i in range(min(3, len(examples))):\n",
    "            ax = axes[class_idx, i]\n",
    "            example = examples[i]\n",
    "            \n",
    "            # Display image\n",
    "            ax.imshow(example['image'])\n",
    "            \n",
    "            # Set title with true and predicted labels\n",
    "            title = f\"True: {example['true']}\\nPred: {example['pred']}\"\n",
    "            color = 'green' if example['true'] == example['pred'] else 'red'\n",
    "            ax.set_title(title, color=color)\n",
    "            \n",
    "            # Remove axis ticks\n",
    "            ax.set_xticks([])\n",
    "            ax.set_yticks([])\n",
    "    \n",
    "    plt.tight_layout()\n",
    "    \n",
    "    # Log figure to wandb\n",
    "    wandb.log({\"test_predictions\": wandb.Image(fig)})\n",
    "    \n",
    "    # Close the figure\n",
    "    plt.close(fig)"
   ]
  },
  {
   "cell_type": "code",
   "execution_count": 17,
   "metadata": {
    "execution": {
     "iopub.execute_input": "2025-04-05T09:38:46.734086Z",
     "iopub.status.busy": "2025-04-05T09:38:46.733805Z",
     "iopub.status.idle": "2025-04-05T09:38:46.740601Z",
     "shell.execute_reply": "2025-04-05T09:38:46.739740Z",
     "shell.execute_reply.started": "2025-04-05T09:38:46.734065Z"
    },
    "trusted": true
   },
   "outputs": [],
   "source": [
    "#Function is similar to train_with_wandb() with added evaluation and visualization code\n",
    "def train_and_evaluate(config=None):\n",
    "    \"\"\"Train and Evaluate best model config\"\"\"\n",
    "    with wandb.init(config=config, project=\"DA6401_Assignment2\"):\n",
    "        # Get hyperparameters from wandb\n",
    "        config = wandb.config\n",
    "        \n",
    "        # Create model with the hyperparameters\n",
    "        model = FlexibleCNN(\n",
    "            input_channels=3,\n",
    "            num_classes=10,\n",
    "            filters=[config.filters_initial],\n",
    "            filter_size=config.filter_size,\n",
    "            conv_activation=config.conv_activation,\n",
    "            dense_activation=config.dense_activation,\n",
    "            dense_neurons=config.dense_neurons,\n",
    "            filter_organization=config.filter_organization,\n",
    "            batch_norm=config.batch_norm,\n",
    "            dropout_rate=config.dropout_rate,\n",
    "            dropout_position=config.dropout_position,\n",
    "            learning_rate=config.learning_rate,\n",
    "            optimizer=config.optimizer\n",
    "        )\n",
    "        \n",
    "        # Create data module\n",
    "        data_module = INaturalistDataModule(\n",
    "            batch_size=config.batch_size,\n",
    "            data_augmentation=config.data_augmentation\n",
    "        )\n",
    "        \n",
    "        # Create WandB logger\n",
    "        wandb_logger = WandbLogger(project=\"inaturalist-cnn\")\n",
    "        \n",
    "        # Create callbacks\n",
    "        early_stop_callback = EarlyStopping(\n",
    "            monitor='val_loss',\n",
    "            patience=10,\n",
    "            mode='min'\n",
    "        )\n",
    "        \n",
    "        checkpoint_callback = ModelCheckpoint(\n",
    "            monitor='val_acc',\n",
    "            dirpath='./checkpoints/',\n",
    "            filename='inaturalist-cnn-{epoch:02d}-{val_acc:.2f}',\n",
    "            save_top_k=1,\n",
    "            mode='max'\n",
    "        )\n",
    "        \n",
    "        # Create trainer\n",
    "        trainer = pl.Trainer(\n",
    "            max_epochs=30,\n",
    "            logger=wandb_logger,\n",
    "            callbacks=[early_stop_callback, checkpoint_callback],\n",
    "            log_every_n_steps=10\n",
    "        )\n",
    "        \n",
    "        # Train the model\n",
    "        trainer.fit(model, data_module)\n",
    "        \n",
    "        # Test the model\n",
    "        test_result = trainer.test(model, data_module)\n",
    "        \n",
    "        # Log final metrics\n",
    "        wandb.log({\n",
    "            \"test_accuracy\": test_result[0][\"test_acc\"],\n",
    "            \"test_loss\": test_result[0][\"test_loss\"]\n",
    "        })\n",
    "        \n",
    "        # Visualize test results in a 10x3 grid\n",
    "        visualize_test_results(model, data_module)"
   ]
  },
  {
   "cell_type": "code",
   "execution_count": 9,
   "metadata": {
    "execution": {
     "iopub.execute_input": "2025-04-05T09:09:56.860582Z",
     "iopub.status.busy": "2025-04-05T09:09:56.860172Z",
     "iopub.status.idle": "2025-04-05T09:09:57.174649Z",
     "shell.execute_reply": "2025-04-05T09:09:57.173800Z",
     "shell.execute_reply.started": "2025-04-05T09:09:56.860548Z"
    },
    "trusted": true
   },
   "outputs": [
    {
     "name": "stderr",
     "output_type": "stream",
     "text": [
      "\u001b[34m\u001b[1mwandb\u001b[0m: Sorting runs by -summary_metrics.val_acc\n"
     ]
    },
    {
     "name": "stdout",
     "output_type": "stream",
     "text": [
      "True\n"
     ]
    }
   ],
   "source": [
    "api = wandb.Api()\n",
    "sweep = api.sweep(\"da24m027-indian-institute-of-technology-madras/DA6401_Assignment2/gk7oqzq1\")\n",
    "best_run = sweep.best_run()\n",
    "best_run_config = best_run.config"
   ]
  },
  {
   "cell_type": "code",
   "execution_count": 10,
   "metadata": {
    "execution": {
     "iopub.execute_input": "2025-04-05T09:10:09.030244Z",
     "iopub.status.busy": "2025-04-05T09:10:09.029972Z",
     "iopub.status.idle": "2025-04-05T09:10:09.035368Z",
     "shell.execute_reply": "2025-04-05T09:10:09.034579Z",
     "shell.execute_reply.started": "2025-04-05T09:10:09.030224Z"
    },
    "trusted": true
   },
   "outputs": [
    {
     "data": {
      "text/plain": [
       "{'filters': [64],\n",
       " 'optimizer': 'rmsprop',\n",
       " 'batch_norm': False,\n",
       " 'batch_size': 64,\n",
       " 'filter_size': 3,\n",
       " 'num_classes': 10,\n",
       " 'dropout_rate': 0.2,\n",
       " 'dense_neurons': 128,\n",
       " 'learning_rate': 0.001,\n",
       " 'input_channels': 3,\n",
       " 'conv_activation': 'mish',\n",
       " 'filters_initial': 64,\n",
       " 'dense_activation': 'relu',\n",
       " 'dropout_position': 'after_dense',\n",
       " 'data_augmentation': False,\n",
       " 'filter_organization': 'same'}"
      ]
     },
     "execution_count": 10,
     "metadata": {},
     "output_type": "execute_result"
    }
   ],
   "source": [
    "best_run_config"
   ]
  },
  {
   "cell_type": "code",
   "execution_count": 18,
   "metadata": {
    "execution": {
     "iopub.execute_input": "2025-04-05T09:40:24.658440Z",
     "iopub.status.busy": "2025-04-05T09:40:24.658118Z",
     "iopub.status.idle": "2025-04-05T09:56:55.581926Z",
     "shell.execute_reply": "2025-04-05T09:56:55.581199Z",
     "shell.execute_reply.started": "2025-04-05T09:40:24.658414Z"
    },
    "trusted": true
   },
   "outputs": [
    {
     "data": {
      "text/html": [
       "Changes to your `wandb` environment variables will be ignored because your `wandb` session has already started. For more information on how to modify your settings with `wandb.init()` arguments, please refer to <a href='https://wandb.me/wandb-init' target=\"_blank\">the W&B docs</a>."
      ],
      "text/plain": [
       "<IPython.core.display.HTML object>"
      ]
     },
     "metadata": {},
     "output_type": "display_data"
    },
    {
     "data": {
      "text/html": [
       "Tracking run with wandb version 0.19.1"
      ],
      "text/plain": [
       "<IPython.core.display.HTML object>"
      ]
     },
     "metadata": {},
     "output_type": "display_data"
    },
    {
     "data": {
      "text/html": [
       "Run data is saved locally in <code>/kaggle/working/wandb/run-20250405_094024-df7m4pgk</code>"
      ],
      "text/plain": [
       "<IPython.core.display.HTML object>"
      ]
     },
     "metadata": {},
     "output_type": "display_data"
    },
    {
     "data": {
      "text/html": [
       "Syncing run <strong><a href='https://wandb.ai/da24m027-indian-institute-of-technology-madras/DA6401_Assignment2/runs/df7m4pgk' target=\"_blank\">betazoid-holosuite-72</a></strong> to <a href='https://wandb.ai/da24m027-indian-institute-of-technology-madras/DA6401_Assignment2' target=\"_blank\">Weights & Biases</a> (<a href='https://wandb.me/developer-guide' target=\"_blank\">docs</a>)<br>"
      ],
      "text/plain": [
       "<IPython.core.display.HTML object>"
      ]
     },
     "metadata": {},
     "output_type": "display_data"
    },
    {
     "data": {
      "text/html": [
       " View project at <a href='https://wandb.ai/da24m027-indian-institute-of-technology-madras/DA6401_Assignment2' target=\"_blank\">https://wandb.ai/da24m027-indian-institute-of-technology-madras/DA6401_Assignment2</a>"
      ],
      "text/plain": [
       "<IPython.core.display.HTML object>"
      ]
     },
     "metadata": {},
     "output_type": "display_data"
    },
    {
     "data": {
      "text/html": [
       " View run at <a href='https://wandb.ai/da24m027-indian-institute-of-technology-madras/DA6401_Assignment2/runs/df7m4pgk' target=\"_blank\">https://wandb.ai/da24m027-indian-institute-of-technology-madras/DA6401_Assignment2/runs/df7m4pgk</a>"
      ],
      "text/plain": [
       "<IPython.core.display.HTML object>"
      ]
     },
     "metadata": {},
     "output_type": "display_data"
    },
    {
     "data": {
      "application/vnd.jupyter.widget-view+json": {
       "model_id": "",
       "version_major": 2,
       "version_minor": 0
      },
      "text/plain": [
       "Sanity Checking: |          | 0/? [00:00<?, ?it/s]"
      ]
     },
     "metadata": {},
     "output_type": "display_data"
    },
    {
     "data": {
      "application/vnd.jupyter.widget-view+json": {
       "model_id": "2e01b12bcd9f41f798afe40ad30efd7f",
       "version_major": 2,
       "version_minor": 0
      },
      "text/plain": [
       "Training: |          | 0/? [00:00<?, ?it/s]"
      ]
     },
     "metadata": {},
     "output_type": "display_data"
    },
    {
     "data": {
      "application/vnd.jupyter.widget-view+json": {
       "model_id": "",
       "version_major": 2,
       "version_minor": 0
      },
      "text/plain": [
       "Validation: |          | 0/? [00:00<?, ?it/s]"
      ]
     },
     "metadata": {},
     "output_type": "display_data"
    },
    {
     "data": {
      "application/vnd.jupyter.widget-view+json": {
       "model_id": "",
       "version_major": 2,
       "version_minor": 0
      },
      "text/plain": [
       "Validation: |          | 0/? [00:00<?, ?it/s]"
      ]
     },
     "metadata": {},
     "output_type": "display_data"
    },
    {
     "data": {
      "application/vnd.jupyter.widget-view+json": {
       "model_id": "",
       "version_major": 2,
       "version_minor": 0
      },
      "text/plain": [
       "Validation: |          | 0/? [00:00<?, ?it/s]"
      ]
     },
     "metadata": {},
     "output_type": "display_data"
    },
    {
     "data": {
      "application/vnd.jupyter.widget-view+json": {
       "model_id": "",
       "version_major": 2,
       "version_minor": 0
      },
      "text/plain": [
       "Validation: |          | 0/? [00:00<?, ?it/s]"
      ]
     },
     "metadata": {},
     "output_type": "display_data"
    },
    {
     "data": {
      "application/vnd.jupyter.widget-view+json": {
       "model_id": "",
       "version_major": 2,
       "version_minor": 0
      },
      "text/plain": [
       "Validation: |          | 0/? [00:00<?, ?it/s]"
      ]
     },
     "metadata": {},
     "output_type": "display_data"
    },
    {
     "data": {
      "application/vnd.jupyter.widget-view+json": {
       "model_id": "",
       "version_major": 2,
       "version_minor": 0
      },
      "text/plain": [
       "Validation: |          | 0/? [00:00<?, ?it/s]"
      ]
     },
     "metadata": {},
     "output_type": "display_data"
    },
    {
     "data": {
      "application/vnd.jupyter.widget-view+json": {
       "model_id": "",
       "version_major": 2,
       "version_minor": 0
      },
      "text/plain": [
       "Validation: |          | 0/? [00:00<?, ?it/s]"
      ]
     },
     "metadata": {},
     "output_type": "display_data"
    },
    {
     "data": {
      "application/vnd.jupyter.widget-view+json": {
       "model_id": "",
       "version_major": 2,
       "version_minor": 0
      },
      "text/plain": [
       "Validation: |          | 0/? [00:00<?, ?it/s]"
      ]
     },
     "metadata": {},
     "output_type": "display_data"
    },
    {
     "data": {
      "application/vnd.jupyter.widget-view+json": {
       "model_id": "",
       "version_major": 2,
       "version_minor": 0
      },
      "text/plain": [
       "Validation: |          | 0/? [00:00<?, ?it/s]"
      ]
     },
     "metadata": {},
     "output_type": "display_data"
    },
    {
     "data": {
      "application/vnd.jupyter.widget-view+json": {
       "model_id": "",
       "version_major": 2,
       "version_minor": 0
      },
      "text/plain": [
       "Validation: |          | 0/? [00:00<?, ?it/s]"
      ]
     },
     "metadata": {},
     "output_type": "display_data"
    },
    {
     "data": {
      "application/vnd.jupyter.widget-view+json": {
       "model_id": "",
       "version_major": 2,
       "version_minor": 0
      },
      "text/plain": [
       "Validation: |          | 0/? [00:00<?, ?it/s]"
      ]
     },
     "metadata": {},
     "output_type": "display_data"
    },
    {
     "data": {
      "application/vnd.jupyter.widget-view+json": {
       "model_id": "",
       "version_major": 2,
       "version_minor": 0
      },
      "text/plain": [
       "Validation: |          | 0/? [00:00<?, ?it/s]"
      ]
     },
     "metadata": {},
     "output_type": "display_data"
    },
    {
     "data": {
      "application/vnd.jupyter.widget-view+json": {
       "model_id": "",
       "version_major": 2,
       "version_minor": 0
      },
      "text/plain": [
       "Validation: |          | 0/? [00:00<?, ?it/s]"
      ]
     },
     "metadata": {},
     "output_type": "display_data"
    },
    {
     "data": {
      "application/vnd.jupyter.widget-view+json": {
       "model_id": "",
       "version_major": 2,
       "version_minor": 0
      },
      "text/plain": [
       "Validation: |          | 0/? [00:00<?, ?it/s]"
      ]
     },
     "metadata": {},
     "output_type": "display_data"
    },
    {
     "data": {
      "application/vnd.jupyter.widget-view+json": {
       "model_id": "",
       "version_major": 2,
       "version_minor": 0
      },
      "text/plain": [
       "Validation: |          | 0/? [00:00<?, ?it/s]"
      ]
     },
     "metadata": {},
     "output_type": "display_data"
    },
    {
     "data": {
      "application/vnd.jupyter.widget-view+json": {
       "model_id": "",
       "version_major": 2,
       "version_minor": 0
      },
      "text/plain": [
       "Validation: |          | 0/? [00:00<?, ?it/s]"
      ]
     },
     "metadata": {},
     "output_type": "display_data"
    },
    {
     "data": {
      "application/vnd.jupyter.widget-view+json": {
       "model_id": "",
       "version_major": 2,
       "version_minor": 0
      },
      "text/plain": [
       "Validation: |          | 0/? [00:00<?, ?it/s]"
      ]
     },
     "metadata": {},
     "output_type": "display_data"
    },
    {
     "data": {
      "application/vnd.jupyter.widget-view+json": {
       "model_id": "20225f60a7b04bdfa77b8fc3b5bd4e28",
       "version_major": 2,
       "version_minor": 0
      },
      "text/plain": [
       "Testing: |          | 0/? [00:00<?, ?it/s]"
      ]
     },
     "metadata": {},
     "output_type": "display_data"
    },
    {
     "data": {
      "text/html": [
       "<pre style=\"white-space:pre;overflow-x:auto;line-height:normal;font-family:Menlo,'DejaVu Sans Mono',consolas,'Courier New',monospace\">┏━━━━━━━━━━━━━━━━━━━━━━━━━━━┳━━━━━━━━━━━━━━━━━━━━━━━━━━━┓\n",
       "┃<span style=\"font-weight: bold\">        Test metric        </span>┃<span style=\"font-weight: bold\">       DataLoader 0        </span>┃\n",
       "┡━━━━━━━━━━━━━━━━━━━━━━━━━━━╇━━━━━━━━━━━━━━━━━━━━━━━━━━━┩\n",
       "│<span style=\"color: #008080; text-decoration-color: #008080\">         test_acc          </span>│<span style=\"color: #800080; text-decoration-color: #800080\">    0.3190000057220459     </span>│\n",
       "│<span style=\"color: #008080; text-decoration-color: #008080\">         test_loss         </span>│<span style=\"color: #800080; text-decoration-color: #800080\">    2.8603899478912354     </span>│\n",
       "└───────────────────────────┴───────────────────────────┘\n",
       "</pre>\n"
      ],
      "text/plain": [
       "┏━━━━━━━━━━━━━━━━━━━━━━━━━━━┳━━━━━━━━━━━━━━━━━━━━━━━━━━━┓\n",
       "┃\u001b[1m \u001b[0m\u001b[1m       Test metric       \u001b[0m\u001b[1m \u001b[0m┃\u001b[1m \u001b[0m\u001b[1m      DataLoader 0       \u001b[0m\u001b[1m \u001b[0m┃\n",
       "┡━━━━━━━━━━━━━━━━━━━━━━━━━━━╇━━━━━━━━━━━━━━━━━━━━━━━━━━━┩\n",
       "│\u001b[36m \u001b[0m\u001b[36m        test_acc         \u001b[0m\u001b[36m \u001b[0m│\u001b[35m \u001b[0m\u001b[35m   0.3190000057220459    \u001b[0m\u001b[35m \u001b[0m│\n",
       "│\u001b[36m \u001b[0m\u001b[36m        test_loss        \u001b[0m\u001b[36m \u001b[0m│\u001b[35m \u001b[0m\u001b[35m   2.8603899478912354    \u001b[0m\u001b[35m \u001b[0m│\n",
       "└───────────────────────────┴───────────────────────────┘\n"
      ]
     },
     "metadata": {},
     "output_type": "display_data"
    },
    {
     "data": {
      "text/html": [],
      "text/plain": [
       "<IPython.core.display.HTML object>"
      ]
     },
     "metadata": {},
     "output_type": "display_data"
    },
    {
     "data": {
      "text/html": [
       "<br>    <style><br>        .wandb-row {<br>            display: flex;<br>            flex-direction: row;<br>            flex-wrap: wrap;<br>            justify-content: flex-start;<br>            width: 100%;<br>        }<br>        .wandb-col {<br>            display: flex;<br>            flex-direction: column;<br>            flex-basis: 100%;<br>            flex: 1;<br>            padding: 10px;<br>        }<br>    </style><br><div class=\"wandb-row\"><div class=\"wandb-col\"><h3>Run history:</h3><br/><table class=\"wandb\"><tr><td>epoch</td><td>▁▁▁▁▁▂▂▂▂▂▃▃▃▃▄▄▄▄▄▅▅▆▆▆▆▆▆▆▆▆▇▇▇▇▇▇▇███</td></tr><tr><td>test_acc</td><td>▁</td></tr><tr><td>test_accuracy</td><td>▁</td></tr><tr><td>test_loss</td><td>▁▁</td></tr><tr><td>train_acc</td><td>▁▁▂▃▂▂▂▂▂▂▂▄▃▂▄▃▃▃▄▄▅▆▄▅▅▆▆▆▆▆▇█▇▇██▇▇█▇</td></tr><tr><td>train_loss</td><td>████▇▇██▇▇▇▇▇▆▅▆▅▄▅▅▅▅▄▃▃▄▄▃▃▃▂▃▃▂▁▁▂▃▁▂</td></tr><tr><td>trainer/global_step</td><td>▁▁▁▂▂▂▂▂▂▂▂▂▃▃▃▄▄▄▄▅▅▅▅▆▆▆▆▆▆▆▇▇▇▇▇▇▇▇██</td></tr><tr><td>val_acc</td><td>▁▃▃▅▇▅▇▇▇█▇█▇▇█▇▆</td></tr><tr><td>val_loss</td><td>▃▃▂▂▁▂▁▁▁▁▂▂▃▄▅▆█</td></tr></table><br/></div><div class=\"wandb-col\"><h3>Run summary:</h3><br/><table class=\"wandb\"><tr><td>epoch</td><td>17</td></tr><tr><td>test_acc</td><td>0.319</td></tr><tr><td>test_accuracy</td><td>0.319</td></tr><tr><td>test_loss</td><td>2.86039</td></tr><tr><td>train_acc</td><td>0.78125</td></tr><tr><td>train_loss</td><td>0.7383</td></tr><tr><td>trainer/global_step</td><td>2125</td></tr><tr><td>val_acc</td><td>0.329</td></tr><tr><td>val_loss</td><td>2.83573</td></tr></table><br/></div></div>"
      ],
      "text/plain": [
       "<IPython.core.display.HTML object>"
      ]
     },
     "metadata": {},
     "output_type": "display_data"
    },
    {
     "data": {
      "text/html": [
       " View run <strong style=\"color:#cdcd00\">betazoid-holosuite-72</strong> at: <a href='https://wandb.ai/da24m027-indian-institute-of-technology-madras/DA6401_Assignment2/runs/df7m4pgk' target=\"_blank\">https://wandb.ai/da24m027-indian-institute-of-technology-madras/DA6401_Assignment2/runs/df7m4pgk</a><br> View project at: <a href='https://wandb.ai/da24m027-indian-institute-of-technology-madras/DA6401_Assignment2' target=\"_blank\">https://wandb.ai/da24m027-indian-institute-of-technology-madras/DA6401_Assignment2</a><br>Synced 5 W&B file(s), 0 media file(s), 0 artifact file(s) and 1 other file(s)"
      ],
      "text/plain": [
       "<IPython.core.display.HTML object>"
      ]
     },
     "metadata": {},
     "output_type": "display_data"
    },
    {
     "data": {
      "text/html": [
       "Find logs at: <code>./wandb/run-20250405_094024-df7m4pgk/logs</code>"
      ],
      "text/plain": [
       "<IPython.core.display.HTML object>"
      ]
     },
     "metadata": {},
     "output_type": "display_data"
    }
   ],
   "source": [
    "train_and_evaluate(config=best_run_config)"
   ]
  }
 ],
 "metadata": {
  "kaggle": {
   "accelerator": "gpu",
   "dataSources": [
    {
     "datasetId": 7046706,
     "sourceId": 11272481,
     "sourceType": "datasetVersion"
    }
   ],
   "dockerImageVersionId": 30919,
   "isGpuEnabled": true,
   "isInternetEnabled": true,
   "language": "python",
   "sourceType": "notebook"
  },
  "kernelspec": {
   "display_name": "base",
   "language": "python",
   "name": "python3"
  },
  "language_info": {
   "codemirror_mode": {
    "name": "ipython",
    "version": 3
   },
   "file_extension": ".py",
   "mimetype": "text/x-python",
   "name": "python",
   "nbconvert_exporter": "python",
   "pygments_lexer": "ipython3",
   "version": "3.8.5"
  }
 },
 "nbformat": 4,
 "nbformat_minor": 4
}
