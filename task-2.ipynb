{
 "cells": [
  {
   "cell_type": "code",
   "execution_count": 1,
   "metadata": {
    "_cell_guid": "b1076dfc-b9ad-4769-8c92-a6c4dae69d19",
    "_uuid": "8f2839f25d086af736a60e9eeb907d3b93b6e0e5",
    "execution": {
     "iopub.execute_input": "2025-04-18T05:15:38.112810Z",
     "iopub.status.busy": "2025-04-18T05:15:38.112510Z",
     "iopub.status.idle": "2025-04-18T05:15:53.598868Z",
     "shell.execute_reply": "2025-04-18T05:15:53.598104Z",
     "shell.execute_reply.started": "2025-04-18T05:15:38.112785Z"
    },
    "trusted": true
   },
   "outputs": [],
   "source": [
    "import torch\n",
    "import torch.nn as nn\n",
    "import torch.nn.functional as F\n",
    "from torch.utils.data import DataLoader, random_split\n",
    "import pytorch_lightning as pl\n",
    "from pytorch_lightning.callbacks import ModelCheckpoint, EarlyStopping\n",
    "from torchvision import transforms, datasets\n",
    "import wandb\n",
    "from pytorch_lightning.loggers import WandbLogger\n",
    "import numpy as np\n",
    "import matplotlib.pyplot as plt\n",
    "import timm"
   ]
  },
  {
   "cell_type": "markdown",
   "metadata": {},
   "source": [
    "## EfficientNet-V2 Model"
   ]
  },
  {
   "cell_type": "code",
   "execution_count": 2,
   "metadata": {
    "execution": {
     "iopub.execute_input": "2025-04-18T05:16:04.069136Z",
     "iopub.status.busy": "2025-04-18T05:16:04.068863Z",
     "iopub.status.idle": "2025-04-18T05:16:04.079042Z",
     "shell.execute_reply": "2025-04-18T05:16:04.078459Z",
     "shell.execute_reply.started": "2025-04-18T05:16:04.069116Z"
    },
    "trusted": true
   },
   "outputs": [],
   "source": [
    "class EfficientNetV2Lightning(pl.LightningModule):\n",
    "    def __init__(self,\n",
    "                 num_classes=10,\n",
    "                 freeze_until='blocks.6',\n",
    "                 dropout_rate=0.3,\n",
    "                 learning_rate=1e-4,\n",
    "                 optimizer='adam'):\n",
    "        super().__init__()\n",
    "        self.save_hyperparameters()\n",
    "\n",
    "        # Load pretrained model\n",
    "        self.model = timm.create_model('tf_efficientnetv2_s_in21k', pretrained=True)\n",
    "\n",
    "        # Partial freezing\n",
    "        freeze = True\n",
    "        for name, param in self.model.named_parameters():\n",
    "            if freeze and self.hparams.freeze_until in name:\n",
    "                freeze = False\n",
    "            param.requires_grad = not freeze\n",
    "\n",
    "        # Replace classification head\n",
    "        in_features = self.model.classifier.in_features\n",
    "        self.model.classifier = nn.Sequential(\n",
    "            nn.Dropout(self.hparams.dropout_rate),\n",
    "            nn.Linear(in_features, self.hparams.num_classes)\n",
    "        )\n",
    "\n",
    "    def forward(self, x):\n",
    "        return self.model(x)\n",
    "\n",
    "    def configure_optimizers(self):\n",
    "        trainable_params = filter(lambda p: p.requires_grad, self.parameters())\n",
    "        if self.hparams.optimizer.lower() == 'adam':\n",
    "            return torch.optim.Adam(trainable_params, lr=self.hparams.learning_rate)\n",
    "        elif self.hparams.optimizer.lower() == 'adamw':\n",
    "            return torch.optim.AdamW(trainable_params, lr=self.hparams.learning_rate)\n",
    "        elif self.hparams.optimizer.lower() == 'sgd':\n",
    "            return torch.optim.SGD(trainable_params, lr=self.hparams.learning_rate, momentum=0.9)\n",
    "        else:\n",
    "            return torch.optim.Adam(trainable_params, lr=self.hparams.learning_rate)\n",
    "\n",
    "    def training_step(self, batch, batch_idx):\n",
    "        x, y = batch\n",
    "        logits = self(x)\n",
    "        loss = F.cross_entropy(logits, y)\n",
    "        acc = (logits.argmax(1) == y).float().mean()\n",
    "        self.log(\"train_loss\", loss, prog_bar=True)\n",
    "        self.log(\"train_acc\", acc, prog_bar=True)\n",
    "        return loss\n",
    "\n",
    "    def validation_step(self, batch, batch_idx):\n",
    "        x, y = batch\n",
    "        logits = self(x)\n",
    "        loss = F.cross_entropy(logits, y)\n",
    "        acc = (logits.argmax(1) == y).float().mean()\n",
    "        self.log(\"val_loss\", loss, prog_bar=True)\n",
    "        self.log(\"val_acc\", acc, prog_bar=True)\n",
    "\n",
    "    def test_step(self, batch, batch_idx):\n",
    "        x, y = batch\n",
    "        logits = self(x)\n",
    "        loss = F.cross_entropy(logits, y)\n",
    "        acc = (logits.argmax(1) == y).float().mean()\n",
    "        self.log(\"test_loss\", loss, prog_bar=True)\n",
    "        self.log(\"test_acc\", acc, prog_bar=True)\n"
   ]
  },
  {
   "cell_type": "markdown",
   "metadata": {},
   "source": [
    "## Data Pipeline"
   ]
  },
  {
   "cell_type": "code",
   "execution_count": 3,
   "metadata": {
    "execution": {
     "iopub.execute_input": "2025-04-18T05:16:09.034225Z",
     "iopub.status.busy": "2025-04-18T05:16:09.033945Z",
     "iopub.status.idle": "2025-04-18T05:16:09.043934Z",
     "shell.execute_reply": "2025-04-18T05:16:09.043252Z",
     "shell.execute_reply.started": "2025-04-18T05:16:09.034208Z"
    },
    "trusted": true
   },
   "outputs": [],
   "source": [
    "class INaturalistDataModule(pl.LightningDataModule):\n",
    "    def __init__(self, batch_size=32, num_workers=4, data_augmentation=False):\n",
    "        super().__init__()\n",
    "        self.batch_size = batch_size\n",
    "        self.num_workers = num_workers\n",
    "        self.data_augmentation = data_augmentation\n",
    "        \n",
    "    def setup(self, stage=None):\n",
    "        # Define transformations\n",
    "        if self.data_augmentation:\n",
    "            train_transform = transforms.Compose([\n",
    "                transforms.Resize((384, 384)),\n",
    "                transforms.RandomHorizontalFlip(),\n",
    "                transforms.RandomRotation(10),\n",
    "                transforms.RandomAffine(degrees=0, translate=(0.1, 0.1)),\n",
    "                transforms.ColorJitter(brightness=0.1, contrast=0.1, saturation=0.1),\n",
    "                transforms.ToTensor(),\n",
    "                transforms.Normalize(mean=[0.485, 0.456, 0.406], std=[0.229, 0.224, 0.225])\n",
    "            ])\n",
    "        else:\n",
    "            train_transform = transforms.Compose([\n",
    "                transforms.Resize((384, 384)),\n",
    "                transforms.ToTensor(),\n",
    "                transforms.Normalize(mean=[0.485, 0.456, 0.406], std=[0.229, 0.224, 0.225])\n",
    "            ])\n",
    "            \n",
    "        val_transform = transforms.Compose([\n",
    "            transforms.Resize((384, 384)),\n",
    "            transforms.ToTensor(),\n",
    "            transforms.Normalize(mean=[0.485, 0.456, 0.406], std=[0.229, 0.224, 0.225])\n",
    "        ])\n",
    "        \n",
    "        # Load dataset\n",
    "        full_dataset = datasets.ImageFolder(root=\"/kaggle/input/nature-12k/inaturalist_12K/train\", transform=train_transform)\n",
    "        # Split into train/val/test\n",
    "        train_size = int(0.8 * len(full_dataset))\n",
    "        val_size = len(full_dataset) - train_size\n",
    "        \n",
    "        self.train_dataset, self.val_dataset = random_split(\n",
    "            full_dataset, [train_size, val_size]\n",
    "        )\n",
    "        \n",
    "        # Apply different transforms to validation and test sets\n",
    "        self.val_dataset.dataset = datasets.ImageFolder(\n",
    "            root=\"/kaggle/input/nature-12k/inaturalist_12K/train\", transform=val_transform\n",
    "        )\n",
    "        self.test_dataset = datasets.ImageFolder(\n",
    "            root=\"/kaggle/input/nature-12k/inaturalist_12K/val\", transform=val_transform\n",
    "        )\n",
    "    \n",
    "    def train_dataloader(self):\n",
    "        return DataLoader(\n",
    "            self.train_dataset, \n",
    "            batch_size=self.batch_size, \n",
    "            shuffle=True, \n",
    "            num_workers=self.num_workers\n",
    "        )\n",
    "    \n",
    "    def val_dataloader(self):\n",
    "        return DataLoader(\n",
    "            self.val_dataset, \n",
    "            batch_size=self.batch_size, \n",
    "            shuffle=False, \n",
    "            num_workers=self.num_workers\n",
    "        )\n",
    "    \n",
    "    def test_dataloader(self):\n",
    "        return DataLoader(\n",
    "            self.test_dataset, \n",
    "            batch_size=self.batch_size, \n",
    "            shuffle=False, \n",
    "            num_workers=self.num_workers\n",
    "        )"
   ]
  },
  {
   "cell_type": "markdown",
   "metadata": {},
   "source": [
    "## Tuning with WandB"
   ]
  },
  {
   "cell_type": "code",
   "execution_count": 4,
   "metadata": {
    "execution": {
     "iopub.execute_input": "2025-04-18T05:16:13.623164Z",
     "iopub.status.busy": "2025-04-18T05:16:13.622796Z",
     "iopub.status.idle": "2025-04-18T05:16:13.628964Z",
     "shell.execute_reply": "2025-04-18T05:16:13.628160Z",
     "shell.execute_reply.started": "2025-04-18T05:16:13.623130Z"
    },
    "trusted": true
   },
   "outputs": [],
   "source": [
    "def train_with_wandb(config=None):\n",
    "    \"\"\"Train EfficientNetV2-S with WandB hyperparameter tuning\"\"\"\n",
    "    with wandb.init(config=config):\n",
    "        config = wandb.config\n",
    "\n",
    "        # Model\n",
    "        model = EfficientNetV2Lightning(\n",
    "            num_classes=10,\n",
    "            freeze_until=config.freeze_until,\n",
    "            dropout_rate=config.dropout_rate,\n",
    "            learning_rate=config.learning_rate,\n",
    "            optimizer=config.optimizer\n",
    "        )\n",
    "\n",
    "        # Data module (resize to 384x384 for EfficientNet)\n",
    "        data_module = INaturalistDataModule(\n",
    "            batch_size=config.batch_size,\n",
    "            data_augmentation=config.data_augmentation,\n",
    "        )\n",
    "\n",
    "        # WandB logger\n",
    "        wandb_logger = WandbLogger(project=\"inaturalist-efficientnet\")\n",
    "\n",
    "        # Callbacks\n",
    "        early_stop_callback = EarlyStopping(\n",
    "            monitor='val_loss',\n",
    "            patience=10,\n",
    "            mode='min'\n",
    "        )\n",
    "\n",
    "        checkpoint_callback = ModelCheckpoint(\n",
    "            monitor='val_acc',\n",
    "            dirpath='./checkpoints/',\n",
    "            filename='inaturalist-efficientnet-{epoch:02d}-{val_acc:.2f}',\n",
    "            save_top_k=1,\n",
    "            mode='max'\n",
    "        )\n",
    "\n",
    "        # Trainer\n",
    "        trainer = pl.Trainer(\n",
    "            max_epochs=10,\n",
    "            logger=wandb_logger,\n",
    "            callbacks=[early_stop_callback, checkpoint_callback],\n",
    "            log_every_n_steps=10\n",
    "        )\n",
    "\n",
    "        trainer.fit(model, data_module)\n"
   ]
  },
  {
   "cell_type": "code",
   "execution_count": 5,
   "metadata": {
    "execution": {
     "iopub.execute_input": "2025-04-15T06:28:15.080074Z",
     "iopub.status.busy": "2025-04-15T06:28:15.079813Z",
     "iopub.status.idle": "2025-04-15T06:28:15.084794Z",
     "shell.execute_reply": "2025-04-15T06:28:15.084053Z",
     "shell.execute_reply.started": "2025-04-15T06:28:15.080054Z"
    },
    "trusted": true
   },
   "outputs": [],
   "source": [
    "sweep_config = {\n",
    "    'name': 'EfficientNetV2',\n",
    "    'method': 'bayes',\n",
    "    'metric': {'name': 'val_acc', 'goal': 'maximize'},\n",
    "    'parameters': {\n",
    "        'learning_rate': {\n",
    "            'min': 1e-5,\n",
    "            'max': 5e-4\n",
    "        },\n",
    "        'dropout_rate': {\n",
    "            'values': [0.1, 0.2, 0.3, 0.4]\n",
    "        },\n",
    "        'freeze_until': {\n",
    "            'values': ['blocks.4', 'blocks.5', 'blocks.6']\n",
    "        },\n",
    "        'optimizer': {\n",
    "            'values': ['adamw', 'adam']\n",
    "        },\n",
    "        'batch_size': {\n",
    "            'values': [32, 64]\n",
    "        },\n",
    "        'data_augmentation': {\n",
    "            'values': [True, False]\n",
    "        }\n",
    "    }\n",
    "}\n"
   ]
  },
  {
   "cell_type": "code",
   "execution_count": 5,
   "metadata": {
    "execution": {
     "iopub.execute_input": "2025-04-18T05:16:20.098184Z",
     "iopub.status.busy": "2025-04-18T05:16:20.097691Z",
     "iopub.status.idle": "2025-04-18T05:16:20.105192Z",
     "shell.execute_reply": "2025-04-18T05:16:20.104623Z",
     "shell.execute_reply.started": "2025-04-18T05:16:20.098162Z"
    },
    "trusted": true
   },
   "outputs": [],
   "source": [
    "from kaggle_secrets import UserSecretsClient\n",
    "\n",
    "user_secrets = UserSecretsClient()"
   ]
  },
  {
   "cell_type": "code",
   "execution_count": 6,
   "metadata": {
    "execution": {
     "iopub.execute_input": "2025-04-18T05:16:23.066801Z",
     "iopub.status.busy": "2025-04-18T05:16:23.066519Z",
     "iopub.status.idle": "2025-04-18T05:16:23.373831Z",
     "shell.execute_reply": "2025-04-18T05:16:23.373267Z",
     "shell.execute_reply.started": "2025-04-18T05:16:23.066780Z"
    },
    "trusted": true
   },
   "outputs": [],
   "source": [
    "wandb_api = user_secrets.get_secret(\"wandb_api\")"
   ]
  },
  {
   "cell_type": "code",
   "execution_count": 7,
   "metadata": {
    "execution": {
     "iopub.execute_input": "2025-04-18T05:16:26.089729Z",
     "iopub.status.busy": "2025-04-18T05:16:26.089357Z",
     "iopub.status.idle": "2025-04-18T05:16:32.116369Z",
     "shell.execute_reply": "2025-04-18T05:16:32.115798Z",
     "shell.execute_reply.started": "2025-04-18T05:16:26.089703Z"
    },
    "trusted": true
   },
   "outputs": [
    {
     "name": "stderr",
     "output_type": "stream",
     "text": [
      "\u001b[34m\u001b[1mwandb\u001b[0m: \u001b[33mWARNING\u001b[0m If you're specifying your api key in code, ensure this code is not shared publicly.\n",
      "\u001b[34m\u001b[1mwandb\u001b[0m: \u001b[33mWARNING\u001b[0m Consider setting the WANDB_API_KEY environment variable, or running `wandb login` from the command line.\n",
      "\u001b[34m\u001b[1mwandb\u001b[0m: Appending key for api.wandb.ai to your netrc file: /root/.netrc\n",
      "\u001b[34m\u001b[1mwandb\u001b[0m: Currently logged in as: \u001b[33mda24m027\u001b[0m (\u001b[33mda24m027-indian-institute-of-technology-madras\u001b[0m) to \u001b[32mhttps://api.wandb.ai\u001b[0m. Use \u001b[1m`wandb login --relogin`\u001b[0m to force relogin\n"
     ]
    },
    {
     "data": {
      "text/plain": [
       "True"
      ]
     },
     "execution_count": 7,
     "metadata": {},
     "output_type": "execute_result"
    }
   ],
   "source": [
    "wandb.login(key=wandb_api)"
   ]
  },
  {
   "cell_type": "code",
   "execution_count": 9,
   "metadata": {
    "execution": {
     "iopub.execute_input": "2025-04-15T06:28:36.681813Z",
     "iopub.status.busy": "2025-04-15T06:28:36.681330Z",
     "iopub.status.idle": "2025-04-15T06:28:36.966162Z",
     "shell.execute_reply": "2025-04-15T06:28:36.965428Z",
     "shell.execute_reply.started": "2025-04-15T06:28:36.681791Z"
    },
    "trusted": true
   },
   "outputs": [
    {
     "name": "stdout",
     "output_type": "stream",
     "text": [
      "Create sweep with ID: ygknqu29\n",
      "Sweep URL: https://wandb.ai/da24m027-indian-institute-of-technology-madras/DA6401_Assignment2/sweeps/ygknqu29\n"
     ]
    }
   ],
   "source": [
    "sweep_id = wandb.sweep(sweep_config, project=\"DA6401_Assignment2\")"
   ]
  },
  {
   "cell_type": "code",
   "execution_count": null,
   "metadata": {
    "execution": {
     "execution_failed": "2025-04-15T12:42:39.094Z",
     "iopub.execute_input": "2025-04-15T06:28:43.207370Z",
     "iopub.status.busy": "2025-04-15T06:28:43.207107Z"
    },
    "trusted": true
   },
   "outputs": [
    {
     "name": "stderr",
     "output_type": "stream",
     "text": [
      "\u001b[34m\u001b[1mwandb\u001b[0m: Agent Starting Run: z4qg21fm with config:\n",
      "\u001b[34m\u001b[1mwandb\u001b[0m: \tbatch_size: 32\n",
      "\u001b[34m\u001b[1mwandb\u001b[0m: \tdata_augmentation: True\n",
      "\u001b[34m\u001b[1mwandb\u001b[0m: \tdropout_rate: 0.4\n",
      "\u001b[34m\u001b[1mwandb\u001b[0m: \tfreeze_until: blocks.6\n",
      "\u001b[34m\u001b[1mwandb\u001b[0m: \tlearning_rate: 0.00014997242936342557\n",
      "\u001b[34m\u001b[1mwandb\u001b[0m: \toptimizer: adam\n",
      "\u001b[34m\u001b[1mwandb\u001b[0m: Using wandb-core as the SDK backend.  Please refer to https://wandb.me/wandb-core for more information.\n"
     ]
    },
    {
     "data": {
      "text/html": [
       "Tracking run with wandb version 0.19.6"
      ],
      "text/plain": [
       "<IPython.core.display.HTML object>"
      ]
     },
     "metadata": {},
     "output_type": "display_data"
    },
    {
     "data": {
      "text/html": [
       "Run data is saved locally in <code>/kaggle/working/wandb/run-20250415_062849-z4qg21fm</code>"
      ],
      "text/plain": [
       "<IPython.core.display.HTML object>"
      ]
     },
     "metadata": {},
     "output_type": "display_data"
    },
    {
     "data": {
      "text/html": [
       "Syncing run <strong><a href='https://wandb.ai/da24m027-indian-institute-of-technology-madras/DA6401_Assignment2/runs/z4qg21fm' target=\"_blank\">azure-sweep-1</a></strong> to <a href='https://wandb.ai/da24m027-indian-institute-of-technology-madras/DA6401_Assignment2' target=\"_blank\">Weights & Biases</a> (<a href='https://wandb.me/developer-guide' target=\"_blank\">docs</a>)<br>Sweep page: <a href='https://wandb.ai/da24m027-indian-institute-of-technology-madras/DA6401_Assignment2/sweeps/ygknqu29' target=\"_blank\">https://wandb.ai/da24m027-indian-institute-of-technology-madras/DA6401_Assignment2/sweeps/ygknqu29</a>"
      ],
      "text/plain": [
       "<IPython.core.display.HTML object>"
      ]
     },
     "metadata": {},
     "output_type": "display_data"
    },
    {
     "data": {
      "text/html": [
       " View project at <a href='https://wandb.ai/da24m027-indian-institute-of-technology-madras/DA6401_Assignment2' target=\"_blank\">https://wandb.ai/da24m027-indian-institute-of-technology-madras/DA6401_Assignment2</a>"
      ],
      "text/plain": [
       "<IPython.core.display.HTML object>"
      ]
     },
     "metadata": {},
     "output_type": "display_data"
    },
    {
     "data": {
      "text/html": [
       " View sweep at <a href='https://wandb.ai/da24m027-indian-institute-of-technology-madras/DA6401_Assignment2/sweeps/ygknqu29' target=\"_blank\">https://wandb.ai/da24m027-indian-institute-of-technology-madras/DA6401_Assignment2/sweeps/ygknqu29</a>"
      ],
      "text/plain": [
       "<IPython.core.display.HTML object>"
      ]
     },
     "metadata": {},
     "output_type": "display_data"
    },
    {
     "data": {
      "text/html": [
       " View run at <a href='https://wandb.ai/da24m027-indian-institute-of-technology-madras/DA6401_Assignment2/runs/z4qg21fm' target=\"_blank\">https://wandb.ai/da24m027-indian-institute-of-technology-madras/DA6401_Assignment2/runs/z4qg21fm</a>"
      ],
      "text/plain": [
       "<IPython.core.display.HTML object>"
      ]
     },
     "metadata": {},
     "output_type": "display_data"
    },
    {
     "name": "stderr",
     "output_type": "stream",
     "text": [
      "/usr/local/lib/python3.11/dist-packages/timm/models/_factory.py:126: UserWarning: Mapping deprecated model name tf_efficientnetv2_s_in21k to current tf_efficientnetv2_s.in21k.\n",
      "  model = create_fn(\n"
     ]
    },
    {
     "data": {
      "application/vnd.jupyter.widget-view+json": {
       "model_id": "2f4c3474cecf4d49a967a7e5cc617705",
       "version_major": 2,
       "version_minor": 0
      },
      "text/plain": [
       "model.safetensors:   0%|          | 0.00/193M [00:00<?, ?B/s]"
      ]
     },
     "metadata": {},
     "output_type": "display_data"
    },
    {
     "name": "stderr",
     "output_type": "stream",
     "text": [
      "/usr/local/lib/python3.11/dist-packages/pytorch_lightning/loggers/wandb.py:397: There is a wandb run already in progress and newly created instances of `WandbLogger` will reuse this run. If this is not desired, call `wandb.finish()` before instantiating `WandbLogger`.\n",
      "\u001b[34m\u001b[1mwandb\u001b[0m: \u001b[33mWARNING\u001b[0m Config item 'freeze_until' was locked by 'sweep' (ignored update).\n",
      "\u001b[34m\u001b[1mwandb\u001b[0m: \u001b[33mWARNING\u001b[0m Config item 'dropout_rate' was locked by 'sweep' (ignored update).\n",
      "\u001b[34m\u001b[1mwandb\u001b[0m: \u001b[33mWARNING\u001b[0m Config item 'learning_rate' was locked by 'sweep' (ignored update).\n",
      "\u001b[34m\u001b[1mwandb\u001b[0m: \u001b[33mWARNING\u001b[0m Config item 'optimizer' was locked by 'sweep' (ignored update).\n"
     ]
    },
    {
     "data": {
      "application/vnd.jupyter.widget-view+json": {
       "model_id": "",
       "version_major": 2,
       "version_minor": 0
      },
      "text/plain": [
       "Sanity Checking: |          | 0/? [00:00<?, ?it/s]"
      ]
     },
     "metadata": {},
     "output_type": "display_data"
    },
    {
     "data": {
      "application/vnd.jupyter.widget-view+json": {
       "model_id": "9df97177cc4a4b83a6c2a911900fc96f",
       "version_major": 2,
       "version_minor": 0
      },
      "text/plain": [
       "Training: |          | 0/? [00:00<?, ?it/s]"
      ]
     },
     "metadata": {},
     "output_type": "display_data"
    },
    {
     "data": {
      "application/vnd.jupyter.widget-view+json": {
       "model_id": "",
       "version_major": 2,
       "version_minor": 0
      },
      "text/plain": [
       "Validation: |          | 0/? [00:00<?, ?it/s]"
      ]
     },
     "metadata": {},
     "output_type": "display_data"
    },
    {
     "data": {
      "application/vnd.jupyter.widget-view+json": {
       "model_id": "",
       "version_major": 2,
       "version_minor": 0
      },
      "text/plain": [
       "Validation: |          | 0/? [00:00<?, ?it/s]"
      ]
     },
     "metadata": {},
     "output_type": "display_data"
    }
   ],
   "source": [
    "wandb.agent(sweep_id, train_with_wandb, count=20)"
   ]
  },
  {
   "cell_type": "markdown",
   "metadata": {},
   "source": [
    "## Evaluating Best Model"
   ]
  },
  {
   "cell_type": "code",
   "execution_count": 8,
   "metadata": {
    "execution": {
     "iopub.execute_input": "2025-04-18T05:17:08.513403Z",
     "iopub.status.busy": "2025-04-18T05:17:08.512854Z",
     "iopub.status.idle": "2025-04-18T05:17:08.522998Z",
     "shell.execute_reply": "2025-04-18T05:17:08.522290Z",
     "shell.execute_reply.started": "2025-04-18T05:17:08.513378Z"
    },
    "trusted": true
   },
   "outputs": [],
   "source": [
    "def visualize_test_results(model, data_module):\n",
    "    \"\"\"Visualize test results in a 10x3 grid (10 classes, 3 per class)\"\"\"\n",
    "    import matplotlib.pyplot as plt\n",
    "    import numpy as np\n",
    "    import torch\n",
    "    from torchvision import transforms\n",
    "    \n",
    "    # Set model to evaluation mode\n",
    "    model.eval()\n",
    "    \n",
    "    # Get class names\n",
    "    class_names = data_module.test_dataset.classes if hasattr(data_module.test_dataset, 'classes') else [f\"Class {i}\" for i in range(10)]\n",
    "    \n",
    "    # Get test dataloader\n",
    "    test_loader = data_module.test_dataloader()\n",
    "    \n",
    "    # Create dictionary to store examples for each class\n",
    "    class_examples = {i: [] for i in range(10)}\n",
    "    \n",
    "    # Get examples for each class\n",
    "    with torch.no_grad():\n",
    "        for images, labels in test_loader:\n",
    "            # Get predictions\n",
    "            outputs = model(images)\n",
    "            _, preds = torch.max(outputs, 1)\n",
    "            \n",
    "            # Store examples\n",
    "            for i, (image, label, pred) in enumerate(zip(images, labels, preds)):\n",
    "                label_idx = label.item()\n",
    "                if len(class_examples[label_idx]) < 3:\n",
    "                    # Convert tensor to numpy for visualization\n",
    "                    img = image.cpu().numpy().transpose(1, 2, 0)\n",
    "                    \n",
    "                    # Denormalize if necessary\n",
    "                    if hasattr(data_module, 'normalize_transform'):\n",
    "                        mean = data_module.normalize_transform.mean\n",
    "                        std = data_module.normalize_transform.std\n",
    "                        img = img * np.array(std) + np.array(mean)\n",
    "                        \n",
    "                    img = np.clip(img, 0, 1)\n",
    "                    \n",
    "                    class_examples[label_idx].append({\n",
    "                        'image': img,\n",
    "                        'true': class_names[label_idx],\n",
    "                        'pred': class_names[pred.item()]\n",
    "                    })\n",
    "            \n",
    "            # Check if we have enough examples\n",
    "            if all(len(examples) >= 3 for examples in class_examples.values()):\n",
    "                break\n",
    "    \n",
    "    # Create 10x3 grid for visualization\n",
    "    fig, axes = plt.subplots(10, 3, figsize=(15, 30))\n",
    "    \n",
    "    for class_idx in range(10):\n",
    "        examples = class_examples[class_idx]\n",
    "        for i in range(min(3, len(examples))):\n",
    "            ax = axes[class_idx, i]\n",
    "            example = examples[i]\n",
    "            \n",
    "            # Display image\n",
    "            ax.imshow(example['image'])\n",
    "            \n",
    "            # Set title with true and predicted labels\n",
    "            title = f\"True: {example['true']}\\nPred: {example['pred']}\"\n",
    "            color = 'green' if example['true'] == example['pred'] else 'red'\n",
    "            ax.set_title(title, color=color)\n",
    "            \n",
    "            # Remove axis ticks\n",
    "            ax.set_xticks([])\n",
    "            ax.set_yticks([])\n",
    "    \n",
    "    plt.tight_layout()\n",
    "    \n",
    "    # Log figure to wandb\n",
    "    wandb.log({\"test_predictions\": wandb.Image(fig)})\n",
    "    \n",
    "    # Close the figure\n",
    "    plt.close(fig)"
   ]
  },
  {
   "cell_type": "code",
   "execution_count": 9,
   "metadata": {
    "execution": {
     "iopub.execute_input": "2025-04-18T05:19:09.635850Z",
     "iopub.status.busy": "2025-04-18T05:19:09.635243Z",
     "iopub.status.idle": "2025-04-18T05:19:09.641645Z",
     "shell.execute_reply": "2025-04-18T05:19:09.641008Z",
     "shell.execute_reply.started": "2025-04-18T05:19:09.635828Z"
    },
    "trusted": true
   },
   "outputs": [],
   "source": [
    "#Function is similar to train_with_wandb() with added evaluation and visualization code\n",
    "def train_and_evaluate(config=None):\n",
    "    \"\"\"Train and Evaluate best model config\"\"\"\n",
    "    with wandb.init(config=config, project=\"DA6401_Assignment2\"):\n",
    "        # Get hyperparameters from wandb\n",
    "        config = wandb.config\n",
    "        \n",
    "        # Create model with the hyperparameters\n",
    "        model = EfficientNetV2Lightning(\n",
    "            num_classes=10,\n",
    "            freeze_until=config.freeze_until,\n",
    "            dropout_rate=config.dropout_rate,\n",
    "            learning_rate=config.learning_rate,\n",
    "            optimizer=config.optimizer\n",
    "        )\n",
    "        \n",
    "        # Create data module\n",
    "        data_module = INaturalistDataModule(\n",
    "            batch_size=config.batch_size,\n",
    "            data_augmentation=config.data_augmentation\n",
    "        )\n",
    "        \n",
    "        # Create WandB logger\n",
    "        wandb_logger = WandbLogger(project=\"inaturalist-cnn\")\n",
    "        \n",
    "        # Create callbacks\n",
    "        early_stop_callback = EarlyStopping(\n",
    "            monitor='val_loss',\n",
    "            patience=10,\n",
    "            mode='min'\n",
    "        )\n",
    "        \n",
    "        checkpoint_callback = ModelCheckpoint(\n",
    "            monitor='val_acc',\n",
    "            dirpath='./checkpoints/',\n",
    "            filename='inaturalist-efficientnet-{epoch:02d}-{val_acc:.2f}',\n",
    "            save_top_k=1,\n",
    "            mode='max'\n",
    "        )\n",
    "        \n",
    "        # Create trainer\n",
    "        trainer = pl.Trainer(\n",
    "            max_epochs=30,\n",
    "            logger=wandb_logger,\n",
    "            callbacks=[early_stop_callback, checkpoint_callback],\n",
    "            log_every_n_steps=10\n",
    "        )\n",
    "        \n",
    "        # Train the model\n",
    "        trainer.fit(model, data_module)\n",
    "        \n",
    "        # Test the model\n",
    "        test_result = trainer.test(model, data_module)\n",
    "        \n",
    "        # Log final metrics\n",
    "        wandb.log({\n",
    "            \"test_accuracy\": test_result[0][\"test_acc\"],\n",
    "            \"test_loss\": test_result[0][\"test_loss\"]\n",
    "        })\n",
    "        \n",
    "        # Visualize test results in a 10x3 grid\n",
    "        visualize_test_results(model, data_module)"
   ]
  },
  {
   "cell_type": "code",
   "execution_count": 10,
   "metadata": {
    "execution": {
     "iopub.execute_input": "2025-04-18T05:19:53.684274Z",
     "iopub.status.busy": "2025-04-18T05:19:53.683721Z",
     "iopub.status.idle": "2025-04-18T05:19:54.663516Z",
     "shell.execute_reply": "2025-04-18T05:19:54.662976Z",
     "shell.execute_reply.started": "2025-04-18T05:19:53.684253Z"
    },
    "trusted": true
   },
   "outputs": [
    {
     "name": "stderr",
     "output_type": "stream",
     "text": [
      "\u001b[34m\u001b[1mwandb\u001b[0m: Sorting runs by -summary_metrics.val_acc\n"
     ]
    }
   ],
   "source": [
    "api = wandb.Api()\n",
    "sweep = api.sweep(\"da24m027-indian-institute-of-technology-madras/DA6401_Assignment2/ygknqu29\")\n",
    "best_run = sweep.best_run()\n",
    "best_run_config = best_run.config"
   ]
  },
  {
   "cell_type": "code",
   "execution_count": 11,
   "metadata": {
    "execution": {
     "iopub.execute_input": "2025-04-18T05:20:10.368502Z",
     "iopub.status.busy": "2025-04-18T05:20:10.367959Z",
     "iopub.status.idle": "2025-04-18T05:20:10.373010Z",
     "shell.execute_reply": "2025-04-18T05:20:10.372462Z",
     "shell.execute_reply.started": "2025-04-18T05:20:10.368480Z"
    },
    "trusted": true
   },
   "outputs": [
    {
     "data": {
      "text/plain": [
       "{'optimizer': 'adam',\n",
       " 'batch_size': 64,\n",
       " 'num_classes': 10,\n",
       " 'dropout_rate': 0.1,\n",
       " 'freeze_until': 'blocks.4',\n",
       " 'learning_rate': 4.1752527543235864e-05,\n",
       " 'data_augmentation': True}"
      ]
     },
     "execution_count": 11,
     "metadata": {},
     "output_type": "execute_result"
    }
   ],
   "source": [
    "best_run_config"
   ]
  },
  {
   "cell_type": "code",
   "execution_count": 12,
   "metadata": {
    "execution": {
     "iopub.execute_input": "2025-04-18T05:21:42.799201Z",
     "iopub.status.busy": "2025-04-18T05:21:42.798634Z",
     "iopub.status.idle": "2025-04-18T06:05:39.809435Z",
     "shell.execute_reply": "2025-04-18T06:05:39.808661Z",
     "shell.execute_reply.started": "2025-04-18T05:21:42.799179Z"
    },
    "trusted": true
   },
   "outputs": [
    {
     "name": "stderr",
     "output_type": "stream",
     "text": [
      "\u001b[34m\u001b[1mwandb\u001b[0m: Using wandb-core as the SDK backend.  Please refer to https://wandb.me/wandb-core for more information.\n"
     ]
    },
    {
     "data": {
      "text/html": [
       "Tracking run with wandb version 0.19.6"
      ],
      "text/plain": [
       "<IPython.core.display.HTML object>"
      ]
     },
     "metadata": {},
     "output_type": "display_data"
    },
    {
     "data": {
      "text/html": [
       "Run data is saved locally in <code>/kaggle/working/wandb/run-20250418_052142-uviodt6e</code>"
      ],
      "text/plain": [
       "<IPython.core.display.HTML object>"
      ]
     },
     "metadata": {},
     "output_type": "display_data"
    },
    {
     "data": {
      "text/html": [
       "Syncing run <strong><a href='https://wandb.ai/da24m027-indian-institute-of-technology-madras/DA6401_Assignment2/runs/uviodt6e' target=\"_blank\">resilient-frog-103</a></strong> to <a href='https://wandb.ai/da24m027-indian-institute-of-technology-madras/DA6401_Assignment2' target=\"_blank\">Weights & Biases</a> (<a href='https://wandb.me/developer-guide' target=\"_blank\">docs</a>)<br>"
      ],
      "text/plain": [
       "<IPython.core.display.HTML object>"
      ]
     },
     "metadata": {},
     "output_type": "display_data"
    },
    {
     "data": {
      "text/html": [
       " View project at <a href='https://wandb.ai/da24m027-indian-institute-of-technology-madras/DA6401_Assignment2' target=\"_blank\">https://wandb.ai/da24m027-indian-institute-of-technology-madras/DA6401_Assignment2</a>"
      ],
      "text/plain": [
       "<IPython.core.display.HTML object>"
      ]
     },
     "metadata": {},
     "output_type": "display_data"
    },
    {
     "data": {
      "text/html": [
       " View run at <a href='https://wandb.ai/da24m027-indian-institute-of-technology-madras/DA6401_Assignment2/runs/uviodt6e' target=\"_blank\">https://wandb.ai/da24m027-indian-institute-of-technology-madras/DA6401_Assignment2/runs/uviodt6e</a>"
      ],
      "text/plain": [
       "<IPython.core.display.HTML object>"
      ]
     },
     "metadata": {},
     "output_type": "display_data"
    },
    {
     "name": "stderr",
     "output_type": "stream",
     "text": [
      "/usr/local/lib/python3.11/dist-packages/timm/models/_factory.py:126: UserWarning: Mapping deprecated model name tf_efficientnetv2_s_in21k to current tf_efficientnetv2_s.in21k.\n",
      "  model = create_fn(\n"
     ]
    },
    {
     "data": {
      "application/vnd.jupyter.widget-view+json": {
       "model_id": "05ac8035d4e344698e942b4c655a396e",
       "version_major": 2,
       "version_minor": 0
      },
      "text/plain": [
       "model.safetensors:   0%|          | 0.00/193M [00:00<?, ?B/s]"
      ]
     },
     "metadata": {},
     "output_type": "display_data"
    },
    {
     "name": "stderr",
     "output_type": "stream",
     "text": [
      "/usr/local/lib/python3.11/dist-packages/pytorch_lightning/loggers/wandb.py:397: There is a wandb run already in progress and newly created instances of `WandbLogger` will reuse this run. If this is not desired, call `wandb.finish()` before instantiating `WandbLogger`.\n"
     ]
    },
    {
     "data": {
      "application/vnd.jupyter.widget-view+json": {
       "model_id": "",
       "version_major": 2,
       "version_minor": 0
      },
      "text/plain": [
       "Sanity Checking: |          | 0/? [00:00<?, ?it/s]"
      ]
     },
     "metadata": {},
     "output_type": "display_data"
    },
    {
     "data": {
      "application/vnd.jupyter.widget-view+json": {
       "model_id": "2c577a7f0d5c4eef86bf5a5e0e2b9da3",
       "version_major": 2,
       "version_minor": 0
      },
      "text/plain": [
       "Training: |          | 0/? [00:00<?, ?it/s]"
      ]
     },
     "metadata": {},
     "output_type": "display_data"
    },
    {
     "data": {
      "application/vnd.jupyter.widget-view+json": {
       "model_id": "",
       "version_major": 2,
       "version_minor": 0
      },
      "text/plain": [
       "Validation: |          | 0/? [00:00<?, ?it/s]"
      ]
     },
     "metadata": {},
     "output_type": "display_data"
    },
    {
     "data": {
      "application/vnd.jupyter.widget-view+json": {
       "model_id": "",
       "version_major": 2,
       "version_minor": 0
      },
      "text/plain": [
       "Validation: |          | 0/? [00:00<?, ?it/s]"
      ]
     },
     "metadata": {},
     "output_type": "display_data"
    },
    {
     "data": {
      "application/vnd.jupyter.widget-view+json": {
       "model_id": "",
       "version_major": 2,
       "version_minor": 0
      },
      "text/plain": [
       "Validation: |          | 0/? [00:00<?, ?it/s]"
      ]
     },
     "metadata": {},
     "output_type": "display_data"
    },
    {
     "data": {
      "application/vnd.jupyter.widget-view+json": {
       "model_id": "",
       "version_major": 2,
       "version_minor": 0
      },
      "text/plain": [
       "Validation: |          | 0/? [00:00<?, ?it/s]"
      ]
     },
     "metadata": {},
     "output_type": "display_data"
    },
    {
     "data": {
      "application/vnd.jupyter.widget-view+json": {
       "model_id": "",
       "version_major": 2,
       "version_minor": 0
      },
      "text/plain": [
       "Validation: |          | 0/? [00:00<?, ?it/s]"
      ]
     },
     "metadata": {},
     "output_type": "display_data"
    },
    {
     "data": {
      "application/vnd.jupyter.widget-view+json": {
       "model_id": "",
       "version_major": 2,
       "version_minor": 0
      },
      "text/plain": [
       "Validation: |          | 0/? [00:00<?, ?it/s]"
      ]
     },
     "metadata": {},
     "output_type": "display_data"
    },
    {
     "data": {
      "application/vnd.jupyter.widget-view+json": {
       "model_id": "",
       "version_major": 2,
       "version_minor": 0
      },
      "text/plain": [
       "Validation: |          | 0/? [00:00<?, ?it/s]"
      ]
     },
     "metadata": {},
     "output_type": "display_data"
    },
    {
     "data": {
      "application/vnd.jupyter.widget-view+json": {
       "model_id": "",
       "version_major": 2,
       "version_minor": 0
      },
      "text/plain": [
       "Validation: |          | 0/? [00:00<?, ?it/s]"
      ]
     },
     "metadata": {},
     "output_type": "display_data"
    },
    {
     "data": {
      "application/vnd.jupyter.widget-view+json": {
       "model_id": "",
       "version_major": 2,
       "version_minor": 0
      },
      "text/plain": [
       "Validation: |          | 0/? [00:00<?, ?it/s]"
      ]
     },
     "metadata": {},
     "output_type": "display_data"
    },
    {
     "data": {
      "application/vnd.jupyter.widget-view+json": {
       "model_id": "",
       "version_major": 2,
       "version_minor": 0
      },
      "text/plain": [
       "Validation: |          | 0/? [00:00<?, ?it/s]"
      ]
     },
     "metadata": {},
     "output_type": "display_data"
    },
    {
     "data": {
      "application/vnd.jupyter.widget-view+json": {
       "model_id": "",
       "version_major": 2,
       "version_minor": 0
      },
      "text/plain": [
       "Validation: |          | 0/? [00:00<?, ?it/s]"
      ]
     },
     "metadata": {},
     "output_type": "display_data"
    },
    {
     "data": {
      "application/vnd.jupyter.widget-view+json": {
       "model_id": "",
       "version_major": 2,
       "version_minor": 0
      },
      "text/plain": [
       "Validation: |          | 0/? [00:00<?, ?it/s]"
      ]
     },
     "metadata": {},
     "output_type": "display_data"
    },
    {
     "data": {
      "application/vnd.jupyter.widget-view+json": {
       "model_id": "",
       "version_major": 2,
       "version_minor": 0
      },
      "text/plain": [
       "Validation: |          | 0/? [00:00<?, ?it/s]"
      ]
     },
     "metadata": {},
     "output_type": "display_data"
    },
    {
     "data": {
      "application/vnd.jupyter.widget-view+json": {
       "model_id": "",
       "version_major": 2,
       "version_minor": 0
      },
      "text/plain": [
       "Validation: |          | 0/? [00:00<?, ?it/s]"
      ]
     },
     "metadata": {},
     "output_type": "display_data"
    },
    {
     "data": {
      "application/vnd.jupyter.widget-view+json": {
       "model_id": "",
       "version_major": 2,
       "version_minor": 0
      },
      "text/plain": [
       "Validation: |          | 0/? [00:00<?, ?it/s]"
      ]
     },
     "metadata": {},
     "output_type": "display_data"
    },
    {
     "data": {
      "application/vnd.jupyter.widget-view+json": {
       "model_id": "",
       "version_major": 2,
       "version_minor": 0
      },
      "text/plain": [
       "Validation: |          | 0/? [00:00<?, ?it/s]"
      ]
     },
     "metadata": {},
     "output_type": "display_data"
    },
    {
     "data": {
      "application/vnd.jupyter.widget-view+json": {
       "model_id": "d333579a2cc2453fb9ad79b4a77744f0",
       "version_major": 2,
       "version_minor": 0
      },
      "text/plain": [
       "Testing: |          | 0/? [00:00<?, ?it/s]"
      ]
     },
     "metadata": {},
     "output_type": "display_data"
    },
    {
     "data": {
      "text/html": [
       "<pre style=\"white-space:pre;overflow-x:auto;line-height:normal;font-family:Menlo,'DejaVu Sans Mono',consolas,'Courier New',monospace\">┏━━━━━━━━━━━━━━━━━━━━━━━━━━━┳━━━━━━━━━━━━━━━━━━━━━━━━━━━┓\n",
       "┃<span style=\"font-weight: bold\">        Test metric        </span>┃<span style=\"font-weight: bold\">       DataLoader 0        </span>┃\n",
       "┡━━━━━━━━━━━━━━━━━━━━━━━━━━━╇━━━━━━━━━━━━━━━━━━━━━━━━━━━┩\n",
       "│<span style=\"color: #008080; text-decoration-color: #008080\">         test_acc          </span>│<span style=\"color: #800080; text-decoration-color: #800080\">    0.9135000109672546     </span>│\n",
       "│<span style=\"color: #008080; text-decoration-color: #008080\">         test_loss         </span>│<span style=\"color: #800080; text-decoration-color: #800080\">    0.33643072843551636    </span>│\n",
       "└───────────────────────────┴───────────────────────────┘\n",
       "</pre>\n"
      ],
      "text/plain": [
       "┏━━━━━━━━━━━━━━━━━━━━━━━━━━━┳━━━━━━━━━━━━━━━━━━━━━━━━━━━┓\n",
       "┃\u001b[1m \u001b[0m\u001b[1m       Test metric       \u001b[0m\u001b[1m \u001b[0m┃\u001b[1m \u001b[0m\u001b[1m      DataLoader 0       \u001b[0m\u001b[1m \u001b[0m┃\n",
       "┡━━━━━━━━━━━━━━━━━━━━━━━━━━━╇━━━━━━━━━━━━━━━━━━━━━━━━━━━┩\n",
       "│\u001b[36m \u001b[0m\u001b[36m        test_acc         \u001b[0m\u001b[36m \u001b[0m│\u001b[35m \u001b[0m\u001b[35m   0.9135000109672546    \u001b[0m\u001b[35m \u001b[0m│\n",
       "│\u001b[36m \u001b[0m\u001b[36m        test_loss        \u001b[0m\u001b[36m \u001b[0m│\u001b[35m \u001b[0m\u001b[35m   0.33643072843551636   \u001b[0m\u001b[35m \u001b[0m│\n",
       "└───────────────────────────┴───────────────────────────┘\n"
      ]
     },
     "metadata": {},
     "output_type": "display_data"
    },
    {
     "data": {
      "text/html": [],
      "text/plain": [
       "<IPython.core.display.HTML object>"
      ]
     },
     "metadata": {},
     "output_type": "display_data"
    },
    {
     "data": {
      "text/html": [
       "<br>    <style><br>        .wandb-row {<br>            display: flex;<br>            flex-direction: row;<br>            flex-wrap: wrap;<br>            justify-content: flex-start;<br>            width: 100%;<br>        }<br>        .wandb-col {<br>            display: flex;<br>            flex-direction: column;<br>            flex-basis: 100%;<br>            flex: 1;<br>            padding: 10px;<br>        }<br>    </style><br><div class=\"wandb-row\"><div class=\"wandb-col\"><h3>Run history:</h3><br/><table class=\"wandb\"><tr><td>epoch</td><td>▁▁▁▂▂▃▃▃▃▃▄▄▄▄▅▅▅▅▅▆▆▆▆▆▆▇▇▇▇▇▇▇▇███████</td></tr><tr><td>test_acc</td><td>▁</td></tr><tr><td>test_accuracy</td><td>▁</td></tr><tr><td>test_loss</td><td>▁▁</td></tr><tr><td>train_acc</td><td>▁▁▄▄▅▆▆▇▇▆▇▇▇▇█▇█▇██████████████████████</td></tr><tr><td>train_loss</td><td>█▇▆▆▃▂▂▂▂▂▂▁▂▁▁▁▁▁▁▁▁▁▁▁▁▁▁▁▁▁▁▁▁▁▁▁▁▁▁▁</td></tr><tr><td>trainer/global_step</td><td>▁▁▁▂▂▃▃▃▃▃▃▄▄▄▄▄▄▅▅▅▅▅▅▅▆▆▆▆▆▇▇▇▇▇▇█████</td></tr><tr><td>val_acc</td><td>▁▆▇▇▇███████████</td></tr><tr><td>val_loss</td><td>█▃▂▁▁▁▁▁▁▁▁▂▁▂▂▂</td></tr></table><br/></div><div class=\"wandb-col\"><h3>Run summary:</h3><br/><table class=\"wandb\"><tr><td>epoch</td><td>16</td></tr><tr><td>test_acc</td><td>0.9135</td></tr><tr><td>test_accuracy</td><td>0.9135</td></tr><tr><td>test_loss</td><td>0.33643</td></tr><tr><td>train_acc</td><td>1</td></tr><tr><td>train_loss</td><td>0.00973</td></tr><tr><td>trainer/global_step</td><td>2000</td></tr><tr><td>val_acc</td><td>0.913</td></tr><tr><td>val_loss</td><td>0.34524</td></tr></table><br/></div></div>"
      ],
      "text/plain": [
       "<IPython.core.display.HTML object>"
      ]
     },
     "metadata": {},
     "output_type": "display_data"
    },
    {
     "data": {
      "text/html": [
       " View run <strong style=\"color:#cdcd00\">resilient-frog-103</strong> at: <a href='https://wandb.ai/da24m027-indian-institute-of-technology-madras/DA6401_Assignment2/runs/uviodt6e' target=\"_blank\">https://wandb.ai/da24m027-indian-institute-of-technology-madras/DA6401_Assignment2/runs/uviodt6e</a><br> View project at: <a href='https://wandb.ai/da24m027-indian-institute-of-technology-madras/DA6401_Assignment2' target=\"_blank\">https://wandb.ai/da24m027-indian-institute-of-technology-madras/DA6401_Assignment2</a><br>Synced 5 W&B file(s), 1 media file(s), 0 artifact file(s) and 0 other file(s)"
      ],
      "text/plain": [
       "<IPython.core.display.HTML object>"
      ]
     },
     "metadata": {},
     "output_type": "display_data"
    },
    {
     "data": {
      "text/html": [
       "Find logs at: <code>./wandb/run-20250418_052142-uviodt6e/logs</code>"
      ],
      "text/plain": [
       "<IPython.core.display.HTML object>"
      ]
     },
     "metadata": {},
     "output_type": "display_data"
    }
   ],
   "source": [
    "train_and_evaluate(config=best_run_config)"
   ]
  }
 ],
 "metadata": {
  "kaggle": {
   "accelerator": "gpu",
   "dataSources": [
    {
     "datasetId": 7046706,
     "sourceId": 11272481,
     "sourceType": "datasetVersion"
    }
   ],
   "dockerImageVersionId": 31011,
   "isGpuEnabled": true,
   "isInternetEnabled": true,
   "language": "python",
   "sourceType": "notebook"
  },
  "kernelspec": {
   "display_name": "Python 3",
   "language": "python",
   "name": "python3"
  },
  "language_info": {
   "codemirror_mode": {
    "name": "ipython",
    "version": 3
   },
   "file_extension": ".py",
   "mimetype": "text/x-python",
   "name": "python",
   "nbconvert_exporter": "python",
   "pygments_lexer": "ipython3",
   "version": "3.11.11"
  }
 },
 "nbformat": 4,
 "nbformat_minor": 4
}
